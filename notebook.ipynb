{
 "cells": [
  {
   "cell_type": "markdown",
   "metadata": {
    "slideshow": {
     "slide_type": "slide"
    }
   },
   "source": [
    "# Hjelp jeg prøvde å bruke Fully Homomorphic Encryption (FHE)"
   ]
  },
  {
   "cell_type": "markdown",
   "metadata": {
    "slideshow": {
     "slide_type": "fragment"
    }
   },
   "source": [
    "* Homomorphic operations\n",
    "* Historie\n",
    "* Fully Homomorphic operations\n",
    "* Mitt forsøk på å bruke FHE"
   ]
  },
  {
   "attachments": {},
   "cell_type": "markdown",
   "metadata": {},
   "source": [
    "### Hva er kryptering?\n",
    "* Lagre data\n",
    "* Sende data"
   ]
  },
  {
   "attachments": {},
   "cell_type": "markdown",
   "metadata": {},
   "source": [
    "* Behandle data?"
   ]
  },
  {
   "cell_type": "markdown",
   "metadata": {
    "slideshow": {
     "slide_type": "slide"
    }
   },
   "source": [
    "![Screenshot 2023-02-22 164309.png](Screenshot_2023-02-22_164309.png)"
   ]
  },
  {
   "cell_type": "markdown",
   "metadata": {
    "slideshow": {
     "slide_type": "notes"
    }
   },
   "source": [
    "I 1978 lurte 3 smarte menn fra MIT på hvordan en fiktiv bank kunne bruke en server (time-shared service) til å kalkulere sensitive data fra sine låntakere uten å gi fra seg noe informasjon. Et av forslagene var å bruke homomorfisk kryptering.\n",
    "\n",
    "Dette var kun teoretisk i 30 år før Gentry laget det først FHE rammeverket i 2009. I 2011 kom Microsoft ut med et paper “Can Homomorphic Encryption be Practical?”. I 2018 kom Microsoft ut med en implementasjon kalt Simple Encrypted Arithmetic Library (SEAL). Og i 2022 kom Edge med Password Monitor som bruker FHE til å sjekke om passordet ditt finnes i lekkede passord-databaser. (Chrome kom kort tid etterpå med en hash-basert løsning).\n"
   ]
  },
  {
   "cell_type": "markdown",
   "metadata": {
    "slideshow": {
     "slide_type": "slide"
    }
   },
   "source": [
    "# Hva er Homomorphic Encryption?\n",
    "* Anna har en melding $m$\n",
    "* Anna krypterer $m$. $\\text{enc}(m)$.\n",
    "* Anna sender $\\text{enc}(m)$ til server.\n",
    "* Serveren gjør en funksjon $f()$ på den krypterte meldingen $\\text{enc}(f(m))$.\n",
    "* Serveren sender krypterte resultatet $\\text{enc}(f(m))$ tilbake.\n",
    "* Anna kan dekryptere svaret. $\\text{dec}((\\text{enc}(f(m))) = f(m)$."
   ]
  },
  {
   "cell_type": "markdown",
   "metadata": {
    "slideshow": {
     "slide_type": "subslide"
    }
   },
   "source": [
    "### RSA\n",
    "1. Bob selects two large prime $p<<0$ and $q<<0$ and calclate $n=p \\times q$\n",
    "2. Bob calculate $\\phi(n) = (p-1)(p+2)$. Choose $e$ such that $\\gcd(e, \\phi(n))=1$.\n",
    "3. Bob calculate private key $d$ to be the modular inverse of $e$, in other words $de \\equiv 1 (\\mod \\phi(n))$.\n",
    "4. Bob sends the public key $p_k = n,p$\n",
    "5. Anna encrypts message $m$ to ciphertext $c \\equiv m^e (\\mod n)$. And sends it.\n",
    "6. Bob computes the message $c^d \\equiv m (\\mod n)$"
   ]
  },
  {
   "cell_type": "markdown",
   "metadata": {},
   "source": [
    "Før FHE RSA"
   ]
  },
  {
   "cell_type": "code",
   "execution_count": 1,
   "metadata": {
    "slideshow": {
     "slide_type": "subslide"
    }
   },
   "outputs": [
    {
     "name": "stdout",
     "output_type": "stream",
     "text": [
      "n=187\n",
      "1\n",
      "cipher=36\n",
      "message_recieved=42, message_recieved==message_sent=True\n"
     ]
    }
   ],
   "source": [
    "from math import gcd\n",
    "# Bobs computer\n",
    "p, q, e = 11, 17, 3 # pretend that p and 1 are large (4096 bits)\n",
    "n = p * q #187\n",
    "print(f'{n=}')\n",
    "phi_n = (p-1)*(q-1)\n",
    "print(f'{gcd(e, phi_n)}')\n",
    "d = pow(e, -1, mod = phi_n)\n",
    "\n",
    "# Annas computer\n",
    "message_sent = 42\n",
    "cipher = message_sent**e % n\n",
    "print(f'{cipher=}')\n",
    "\n",
    "# Bobs computer\n",
    "message_recieved = cipher**d % n\n",
    "print(f'{message_recieved=}, {message_recieved==message_sent=}')\n"
   ]
  },
  {
   "cell_type": "markdown",
   "metadata": {
    "slideshow": {
     "slide_type": "subslide"
    }
   },
   "source": [
    "\n",
    "### Multiplicative homomorphism in RSA"
   ]
  },
  {
   "cell_type": "code",
   "execution_count": 1,
   "metadata": {
    "slideshow": {
     "slide_type": "fragment"
    }
   },
   "outputs": [
    {
     "name": "stdout",
     "output_type": "stream",
     "text": [
      "n=187\n",
      "gcd(e, phi_n)=1\n",
      "(cipher_j,cipher_k)=(65, 36)\n",
      "(message_recieved, message_recieved==message_product, message_recieved==message_product%n)=(46, False, True)\n"
     ]
    }
   ],
   "source": [
    "from math import gcd\n",
    "# Bobs computer\n",
    "p, q, e = 11, 17, 3\n",
    "#p, q = 101, 103\n",
    "#e = 7\n",
    "n = p * q #187\n",
    "print(f'{n=}')\n",
    "phi_n = (p-1)*(q-1)\n",
    "print(f'{gcd(e, phi_n)=}')\n",
    "d = pow(e, -1, mod = phi_n)\n",
    "\n",
    "# Annas computer\n",
    "message_sent_j = 10\n",
    "message_sent_k = 42\n",
    "message_product = message_sent_j * message_sent_k # Only for verification\n",
    "cipher_j = message_sent_j**e % n\n",
    "cipher_k = message_sent_k**e % n\n",
    "print(f'{(cipher_j,cipher_k)=}')\n",
    "\n",
    "#Homomorphic calculation\n",
    "cipher_product = cipher_k * cipher_j\n",
    "\n",
    "# Bobs computer\n",
    "message_recieved = cipher_product**d % n\n",
    "print(f'{(message_recieved, message_recieved==message_product, message_recieved==message_product%n)=}')"
   ]
  },
  {
   "cell_type": "markdown",
   "metadata": {
    "slideshow": {
     "slide_type": "subslide"
    }
   },
   "source": [
    "### Takebacks\n",
    "Ikke evig multiplikasjoner, `ciper_product`$ \\equiv  m_j \\times m_j \\bmod {n}$"
   ]
  },
  {
   "cell_type": "markdown",
   "metadata": {
    "slideshow": {
     "slide_type": "slide"
    }
   },
   "source": [
    "## Paillier"
   ]
  },
  {
   "cell_type": "markdown",
   "metadata": {
    "slideshow": {
     "slide_type": "subslide"
    }
   },
   "source": [
    "### Generate keys\n",
    "$$\n",
    "\\begin{align}\n",
    "\\mathbb{Z}_n &= \\{0,1,2, \\ldots, n-1\\} \\\\\n",
    "p,q &\\in \\mathbb{N}_{p(rime)} | \\gcd ( pq, (p−1)(q−1))=1 \\\\\n",
    "n &=pq\\\\\n",
    "\\lambda &= \\text{lcm} (p-1,q-1) \\\\\n",
    "g   &\\in_R \\mathbb{Z}_{n^2}^* \\\\\n",
    "L(x)& = {{x-1}\\over n} \\\\\n",
    "\\mu &=(L(g^{\\lambda }{\\bmod \\; n}^{2}))^{{-1}}{\\bmod \\; n}\n",
    "b \\\\\n",
    "\\text{public key} =  k_{pub} &= (n, g)  \\\\\n",
    "\\text{private key} = k_{priv} &= (\\lambda, \\mu)  \\\\\n",
    "\\end{align}\n",
    "$$"
   ]
  },
  {
   "cell_type": "markdown",
   "metadata": {
    "slideshow": {
     "slide_type": "notes"
    }
   },
   "source": [
    "Extended Euclidean Algorithm for å finne invers"
   ]
  },
  {
   "cell_type": "markdown",
   "metadata": {
    "slideshow": {
     "slide_type": "subslide"
    }
   },
   "source": [
    "$$\n",
    "\\text{\\{public key, private_key\\}} =  \\{k_{pub},k_{priv}\\}  =  \\{(n, g),(\\lambda, \\mu)\\}\n",
    "$$\n",
    "### Encrypt one message\n",
    "$$\n",
    "\\begin{align}\n",
    "\\text{message} &= m \\in \\mathbb{Z}_n \\\\\n",
    "\\text{random seed} &= r \\in_R \\mathbb{N} | \\gcd(r,n)=1 \\\\\n",
    "\\text{ciphertext} &=c =\\mathcal{E}(m) = g^m \\times r^n &\\bmod\\; n^2 \\\\\n",
    "\\end{align}\n",
    "$$\n",
    "\n",
    "### Decrypt\n",
    "$$\n",
    "\\begin{align}\n",
    "L(x)& = {{x-1}\\over n} \\\\\n",
    "m &=L(c^{\\lambda} \\bmod \\; n^2) \\times \\mu \\bmod \\; n\n",
    "\\end{align}\n",
    "$$"
   ]
  },
  {
   "cell_type": "markdown",
   "metadata": {
    "slideshow": {
     "slide_type": "notes"
    }
   },
   "source": [
    "Legg merke til at man multipliserer $g^m$ og $r^n$"
   ]
  },
  {
   "cell_type": "markdown",
   "metadata": {
    "slideshow": {
     "slide_type": "subslide"
    }
   },
   "source": [
    "$$\n",
    "\\text{\\{public key, private_key\\}} =  \\{k_{pub},k_{priv}\\}  =  \\{(n, g),(\\lambda, \\mu)\\}\n",
    "$$\n",
    "### Encrypt two messages\n",
    "$$\n",
    "\\begin{align}\n",
    "\\mathcal{E}(m_1) &= g^{m_1} r_1^n&\\bmod \\;n^2 \\\\\n",
    "\\mathcal{E}(m_2) &= g^{m_2} r_2^n&\\bmod \\;n^2 \\\\\n",
    "\\end{align}\n",
    "$$\n",
    "\n",
    "### Homomorphic addition of two ciphertexts\n",
    "$$\n",
    "\\begin{align}\n",
    "\\mathcal{E}(m_1) \\times \\mathcal{E}(m_2) &= (g^{m_1} r_1^n)\\times(g^{m_2} r_2^n) \\bmod \\;n^2 \\\\\n",
    "&= g^{m_1 + m_2} (r_1 \\times r_2)^n \\bmod\\; n^2 &\\; r_x = r_1\\times r_2 \\\\\n",
    "&= \\mathcal{E}(m_1 + m_2)\\\\\n",
    "\\end{align}\n",
    "$$"
   ]
  },
  {
   "cell_type": "markdown",
   "metadata": {
    "slideshow": {
     "slide_type": "notes"
    }
   },
   "source": [
    "Man multipliserer krypterte outputten for å addere message."
   ]
  },
  {
   "cell_type": "markdown",
   "metadata": {
    "slideshow": {
     "slide_type": "fragment"
    }
   },
   "source": [
    "### Homomorphic mulitplication of one ciphertext and non-encrypted constant  $k$\n",
    "$$\n",
    "\\begin{align}\n",
    "\\mathcal{E}(m)            &= g^m r^n\\\\\n",
    "\\mathcal{E}(m) \\times g^k &= g^m r^n \\times g^k\\\\\n",
    "                          &= g^{m+k} r^n\\\\\n",
    "\\end{align}\n",
    "$$"
   ]
  },
  {
   "cell_type": "code",
   "execution_count": 2,
   "metadata": {
    "slideshow": {
     "slide_type": "subslide"
    }
   },
   "outputs": [
    {
     "name": "stdout",
     "output_type": "stream",
     "text": [
      "decrypted=[33, 66, 99, 330]\n"
     ]
    }
   ],
   "source": [
    "from phe import paillier\n",
    "public_key, private_key = paillier.generate_paillier_keypair()\n",
    "messages = [33, 66]\n",
    "cipher_texts = [public_key.encrypt(x) for x in messages]\n",
    "cipher_texts.append(cipher_texts[0]+cipher_texts[1])\n",
    "cipher_texts.append(cipher_texts[0]*10)\n",
    "decrypted = [private_key.decrypt(x) for x in cipher_texts]\n",
    "print(f'{decrypted=}')"
   ]
  },
  {
   "cell_type": "markdown",
   "metadata": {
    "slideshow": {
     "slide_type": "notes"
    }
   },
   "source": [
    "Notater:\n"
   ]
  },
  {
   "cell_type": "markdown",
   "metadata": {
    "slideshow": {
     "slide_type": "slide"
    }
   },
   "source": [
    "# Hva kan homomorphism brukes til?\n",
    "* Anonym avstemning\n",
    "* Anonym treningsdata til K.I.\n",
    "* Kan kanskje *ikke* brukes der du *ikke* vil ha *mallebility*.\n",
    "    * Noen hacker din krypterte IOU liste og ganger alle beløp med 2.\n",
    "* ?? Kanskje ikke så mye mer...?\n",
    "* ...Men hva om vi fikk til både $\\times$ OG $+$ ???"
   ]
  },
  {
   "cell_type": "markdown",
   "metadata": {
    "slideshow": {
     "slide_type": "subslide"
    }
   },
   "source": [
    "# $\\{ \\times, + \\} \\rightarrow \\{\\wedge, \\vee, \\oplus, \\; \\neg \\} \\Leftrightarrow \\{\\&,|,\\text{^},!\\} $\n",
    "\n",
    "$$\n",
    "\\begin{align}\n",
    "a,b &\\in\\{0,1\\}\\\\\n",
    "a\\oplus b & \\Leftrightarrow a+b &\\bmod 2 \\\\\n",
    "a\\wedge b & \\Leftrightarrow a\\times b \\\\\n",
    "a \\vee b & \\Leftrightarrow a + b + (a \\times b) &\\bmod 2\n",
    "\\end{align}\n",
    "$$\n",
    "\n",
    "| $a$ | $b$ |$ a\\oplus b$|$a \\wedge b$|$a \\vee b $|\n",
    "|:--|:--|:--|:--|:--|\n",
    "|$a$|$b$|$a+b\\bmod 2$|$a\\times b$| $a + b + (a \\times b) \\bmod 2$|\n",
    "| 0 | 0 |$0+0=0$     |$0 \\times 0 = 0$|$0+0+(0 \\times0) = 0$|\n",
    "| 0 | 1 |$0+1=1$     |$0 \\times 1 = 0$|$0+1+(0\\times 1) =1$|\n",
    "| 1 | 0 |$1+0=1$     |$1 \\times 0 = 0$|$1+0+(1\\times 0) =1$|\n",
    "| 1 | 1 |$1+1= 2 \\equiv0\\bmod2$|$1 \\times 1 = 1$|$1+1+(1\\times 1)=3\\equiv1 \\bmod 2$|\n",
    "\n"
   ]
  },
  {
   "cell_type": "markdown",
   "metadata": {
    "slideshow": {
     "slide_type": "slide"
    }
   },
   "source": [
    "# FHE **F**ully **H**omomorphic **E**ncryption\n",
    "* Si noe om Noice budget\n",
    "* Når du har nådd syøt-budsjettet ditt, kan du ta imot tallet ditt, decryptere det, og sende det inn igjen krypter.\n",
    "* Bootstrapping: Å dekryptere kryptert data kryptert.\n",
    "* Noe om first generation, second og third..\n",
    "* 4th generation FHE:  Cheon, Kim, Kim and Song (CKKS)\n",
    "    * Homomorphic Encryption for Arithmetic of Approximate Numbers 2016, ASIACRYPT 2017\n",
    "    * Floats.\n",
    "    * In short, our encoding function is given by:\n",
    "    * ![Screenshot](CKKS_enc.png)\n",
    "    * > ...we show that our scheme can be applied to the efficient evaluation of transcendental functions such as multiplicative inverse, exponential function, logistic function and discrete Fourier transform.\n",
    "    * > The primary open problem is finding way to convert our scheme to a fully homomorphic scheme using bootstrapping.\n",
    "\n",
    "    "
   ]
  },
  {
   "cell_type": "markdown",
   "metadata": {},
   "source": [
    "### Historie (ref wiki)\n",
    "Dette var kun teoretisk i 30 år før Gentry laget det først FHE rammeverket i 2009. I 2011 kom Microsoft ut med et paper “Can Homomorphic Encryption be Practical?”. I 2018 kom Microsoft ut med en implementasjon kalt Simple Encrypted Arithmetic Library (SEAL). Og i 2022 \n",
    "* 1978\n",
    "    * Teorisert\n",
    "* 1st gen\n",
    "    * Gentry lagde et *somewhoat homomorphic* krypterings-scheme. Dette kunne plausibilt bli FHE ved å *bootstrappe*(2009)- *Bootstrapping er når man kan implementere dekrypteringsalgoritmen i schemet.*\n",
    "    * Fully Homomorphic Encryption over the Integers (2010) https://eprint.iacr.org/2009/616\n",
    "* 2nd gen\n",
    "    * **BGV**(2011), LTV(2012), **BFV**(2012), GHS(2012), BLLN(2013)\n",
    "* 3rd gen\n",
    "    * FHEW(2014) TFHE(2016)\n",
    "* 4th gen\n",
    "    * **CKKS**(2016)\n"
   ]
  },
  {
   "cell_type": "markdown",
   "metadata": {
    "slideshow": {
     "slide_type": "slide"
    }
   },
   "source": [
    "### Microsoft SEAL\n",
    "> Microsoft SEAL is an easy-to-use open-source (MIT licensed) homomorphic encryption library...\n",
    ">Microsoft SEAL comes with two different homomorphic encryption schemes with very different properties. The BFV and BGV schemes allow modular arithmetic to be performed on encrypted integers. The CKKS scheme allows additions and multiplications on encrypted real or complex numbers, but yields only approximate results. In applications such as summing up encrypted real numbers, evaluating machine learning models on encrypted data, or computing distances of encrypted locations CKKS is going to be by far the best choice. For applications where exact values are necessary, the BFV and BGV schemes are more suitable.\n",
    "\n",
    "### Eksempel\n",
    "Microsoft prøvde i 2015 å se på edit-disctance på DNA. Her brukes et 4 tegns alfabet, **A**denine , **T**hymine, **G**uanine, **C**ytosine.\n",
    "\n",
    "https://www.microsoft.com/en-us/research/publication/homomorphic-computation-of-edit-distance/\n",
    "\n",
    "|(n, m)| Depth | Ring Mod $\\Phi_d$ |Key Enc|Total|Amortized|\n",
    "|-----------|---|-------|-------|-------|-------|\n",
    "|(1,1)|1|d=4369|256|1.4761s|0.1118s|0.0693s|0.0003s|\n",
    "|(2,2)|2|d=4369|256|1.8358s|0.2844s|0.2532s|0.0009s|\n",
    "|(3,3)|8|d=8191|630|7.0162s|1.7117s|34.3091s|0.0544s|\n",
    "|(4,4)|9|d=8191|630|7.4489s|2.4154s|67.5116s|0.1071s|\n",
    "|(6,6)|16|d=13981|600|16.1076s|9.9498s|26min|33s|2.6555s|\n",
    "|(8,8)|19|d=15709|682|27.5454s|16.4524s|4h 50min|25.4366s|\n",
    "|(50,50)|||||~1 day|\n",
    "\n",
    "> Currently we could not implement our algorithm for larger parameters [than (8,8)] due to large memory requirements"
   ]
  },
  {
   "attachments": {},
   "cell_type": "markdown",
   "metadata": {},
   "source": [
    "### FHEAAS\n",
    "Sør Koreanske ncloud.com gjør det mulig å utføre FHE på data for oss dødelige. Bruker Homomorphic Encryption for Arithmetic of Approximate Numbers (HEaaN) aka Cheon-Kim-Kim-Song CKKS.\n",
    "![heaan example](heaan-example_extask2_vpc_en.png)\n"
   ]
  },
  {
   "attachments": {},
   "cell_type": "markdown",
   "metadata": {},
   "source": [
    "### Microsoft Edge - Password manager\n",
    "![Edge-password-monitor](Edge-password-monitor.png)\n",
    "Private Set Intersection (PSI) refers to a functionality where two parties, each holding a private set of items, can check which items they have in common without revealing anything else to each other."
   ]
  },
  {
   "attachments": {},
   "cell_type": "markdown",
   "metadata": {},
   "source": [
    "## Dypdykk i CKKS\n",
    "\n",
    "![Cryptotree_diagrams-2.svg](https://blog.openmined.org/content/images/2020/08/Cryptotree_diagrams-2.svg)\n",
    "Message $m$ vector (vector med floats) blir encodet til med en *Scaling factor* $\\Delta$ til Plaintext .\n",
    "Plaintext blir kryptert og får lengden $\\log Q$ bits\n",
    "\n",
    "Message $m$ vector (vector med floats) blir encodet til med en *Scaling factor* $\\Delta$ til Plaintext .\n",
    "Plaintext blir kryptert og får lengden $\\log Q$ bits"
   ]
  },
  {
   "attachments": {},
   "cell_type": "markdown",
   "metadata": {},
   "source": [
    "### Multiplisering\n",
    "\n",
    "* Message $m$ vector (vector med floats) blir encodet til med en *Scaling factor* $\\Delta$ til Plaintext .\n",
    "* Plaintext blir kryptert og får lengden $\\log Q$ bits\n",
    "* $Q = q_0 \\times \\Delta ^L $\n",
    "    * $ q_0$: Base modulus\n",
    "    * $ Q_l = q_0 \\times \\Delta ^\\ell$: Ciphertext modulus\n",
    "* Level\n",
    "    * Jeg ser på level $\\ell$ som liv i zelda, og når man har 0 liv igjen, kan man ikke f.eks gjøre flere multiplikasjoner.\n",
    "* Overordnet multiplikasjon.\n",
    "    * Multiplikasjon: $(ct_a, \\ell, \\Delta)\\times(ct_b,\\ell,\\Delta) \\rightarrow (ct_mul, \\ell, \\Delta^2)$. Scale øker.\n",
    "    * Relinearization: $(ct_{mul},\\ell,\\Delta^2)(ct'_{mul},\\ell, \\Delta^2)$ Relinearization gjør selve cipherteksten mindre.\n",
    "    * Rescale: $(ct'_{mul},\\ell,\\Delta^2)\\rightarrow(ct''_mul,\\ell-1,\\Delta)$"
   ]
  },
  {
   "cell_type": "markdown",
   "metadata": {
    "slideshow": {
     "slide_type": "slide"
    }
   },
   "source": [
    "# LPSE **L**ightweight **p**assword-**s**trength estimation for password meters\n",
    "\n",
    "> Password strength can be measured by comparing the\n",
    "> similarity between a given password vector and a standard\n",
    "> strong-password vector.\n",
    "> We determine the similarity between the two password\n",
    "> vectors from three aspects:\n",
    "> * the structure of the password\n",
    ">     * that is, what kinds of characters compose the password and the pro-portions of various characters\n",
    "> * the password length\n",
    "> * the number of insertion, substitution, and deletion operations required to transform a given password into a standard strong password. "
   ]
  },
  {
   "cell_type": "markdown",
   "metadata": {
    "slideshow": {
     "slide_type": "subslide"
    }
   },
   "source": [
    "### Passordvektor:\n",
    "\n",
    "En passordvektor ser slik ut: $\\alpha = x_1, x_2, x_3, x_4, x_5$. Der verdiene er hennoldsvis vektorverdi av tall, små bokstaver, store bokstaver, spesialtegn og lengden av passordet.\n",
    "\n",
    "Table 1 – General rules for mapping characters to\n",
    "vectors.\n",
    "|Patterns|Vector value| Example char $\\rightarrow$ vector|\n",
    "|--------|------------|------------------------------|\n",
    "|Digits|1| 8| $\\rightarrow$ 1|\n",
    "|Lowercase letters| 1| d $\\rightarrow$ 1|\n",
    "|Uppercase letters| 2| G $\\rightarrow$ 2|\n",
    "|Special characters| 3| & $\\rightarrow$ 3|\n",
    "|Two identical characters|Equivalent to one character vector|aa $\\rightarrow$ 1, 3a3a $\\rightarrow$ 2|\n",
    "|Two consecutive characters|Equivalent to one character vector|AB $\\rightarrow$ 2,1a2b $\\rightarrow$ 2|\n",
    "\n",
    "### En sterk passordvektor $\\alpha_{s(ecure)}$\n",
    "Paperet påstår:\n",
    "> we believe that a strong password should be randomly generated, and the password length should be greater than 16 characters.\n",
    "\n",
    "Hvor stor vil en passordvektoren til et tilfeldig passord på 16 tegn være?\n",
    "\n",
    "La oss ta utgangspunkt i et ASCII keyboard med 96 tegn, 10 tall, 26 små og store bokstaver og 32 spesialtegn. Et tilfledig generert passord burde derfor bestå av:\n",
    "* $16 \\times {10 \\over 96} \\approx 2$ tall.\n",
    "* $16 \\times {26 \\over 96} \\approx 5$ små bokstaver.\n",
    "* $16 \\times {26 \\over 96} \\approx 5$ store bokstaver.\n",
    "* $16 \\times {32 \\over 96} \\approx 6$ spesialtegn.\n",
    "\n",
    "... og derfor ha passordvektoren $\\alpha_s = \\{2,5,10,18,18\\}$\n"
   ]
  },
  {
   "cell_type": "markdown",
   "metadata": {
    "slideshow": {
     "slide_type": "subslide"
    }
   },
   "source": [
    "### Eksempel\n",
    "Hvilken vektor vil passordet `aa35*TX1` ha?\n",
    "* Fjern alle like og bokstaver i rekkefølge. `a35*TX1`\n",
    "* Hvor mange tall har vi? $x_1=3$\n",
    "* Hvor mange små bokstaver har vi? $x_2=1$\n",
    "* Hvor mange store bokstaver har vi? $x_3=2\\times2=4$\n",
    "* Hvor mange tegn har vi? $x_4 = 1 \\times 3 = 3$\n",
    "* Hvor langt er passordet? $x_5 = 8$\n",
    "\n",
    "$\\alpha_{\\text{aa35*TX1}}=\\{3,1,4,3\\}$\n",
    "\n",
    "### Cosine similarity $cos(\\phi)$\n",
    "$$\n",
    "\\begin{align}\n",
    "\\text{Vectors}\\;A,B\\\\\n",
    "\\text{cosine similarity} &= cos(\\phi)\\\\\n",
    " &= {{A \\cdot B}\\over {||A|| \\times ||B||}} \\\\\n",
    " &={ {\\sum_{n=1}^n A_i \\cdot B_i}\\over{\\sqrt { \\sum_{n=1}^n A_i^2} \\cdot \\sqrt{ \\sum_{n=1}^n A_i^2}}}\n",
    "\\end{align}\n",
    "$$\n",
    "\n",
    "### Cosine-length similarity $s_c(\\alpha)$\n",
    "\n",
    "$$\n",
    "\\begin{align}\n",
    "\\text{Passord som testes} &= \\alpha\\\\\n",
    "\\text{sikker passordvektor} &= \\alpha_s\\\\\n",
    "s_c(\\alpha) &= \\cos(\\phi)\\times {{\\min(|\\alpha||\\alpha_s|)} \\over {\\max(|\\alpha||\\alpha_s|)}} \\\\\n",
    "|\\alpha| &= \\sqrt{\\sum{5}_{i=1}(x_i)^2}\n",
    "\\end{align}\n",
    "$$"
   ]
  },
  {
   "cell_type": "markdown",
   "metadata": {
    "slideshow": {
     "slide_type": "subslide"
    }
   },
   "source": [
    "### Password-distane\n",
    "Dersom Microsoft gikk tom for minne for å se på edit-distance ved et 4-alfabets string på lengde over 8, så ville jeg slitt med et 96-alfabets passord på lengde 18."
   ]
  },
  {
   "cell_type": "raw",
   "metadata": {
    "slideshow": {
     "slide_type": "subslide"
    }
   },
   "source": [
    "from math import ceil, sqrt\n",
    "import sys\n",
    "import string\n",
    "\n",
    "\n",
    "COMPONENT_WEIGHT = {\n",
    "    'n_digits': 1,\n",
    "    'n_lowercase': 1,\n",
    "    'n_uppercase': 2,\n",
    "    'n_special_chars': 3,\n",
    "    'password_length': 1,\n",
    "}\n",
    "\n",
    "\n",
    "def cosine_similarity(x: str, y: str) -> float:\n",
    "    numerator = 0\n",
    "    for xi, yi in zip(x, y):\n",
    "        numerator += xi * yi\n",
    "\n",
    "    sum_x_squared = sum(xi**2 for xi in x)\n",
    "    sum_y_squared = sum(yi**2 for yi in y)\n",
    "\n",
    "    denomerator = sqrt(sum_x_squared * sum_y_squared)\n",
    "    return numerator / denomerator\n",
    "\n",
    "\n",
    "def cosine_length_similarity(x: str, y: str) -> float:\n",
    "    cos = cosine_similarity(x, y)\n",
    "    x_length = sqrt(sum(xi**2 for xi in x))\n",
    "    y_length = sqrt(sum(yi**2 for yi in y))\n",
    "\n",
    "    return cos * min(x_length, y_length) / max(x_length, y_length)\n",
    "\n",
    "\n",
    "def pass_vector(password: str):\n",
    "    pass_values = {\n",
    "        'n_digits': sum(c.isdigit() for c in password),\n",
    "        'n_lowercase': sum(c.islower() for c in password),\n",
    "        'n_uppercase': sum(c.isupper() for c in password),\n",
    "        'n_special_chars': sum(not c.isalnum() for c in password),\n",
    "        'password_length': len(password),\n",
    "    }\n",
    "    return [pass_values[k] * COMPONENT_WEIGHT[k] for k in COMPONENT_WEIGHT.keys()]\n",
    "\n",
    "def classify(cls_score: float) -> string:\n",
    "    if cls_score >= 0.4:\n",
    "        return 'strong'\n",
    "    if cls_score <= 0.19:\n",
    "        return 'weak'\n",
    "\n",
    "    return 'medium'\n",
    "\n",
    "\n",
    "def LPSE(password: str) -> tuple[float, str]:\n",
    "    spv = strong_pass_vector()\n",
    "    p_vector = pass_vector(password)\n",
    "    print(f'{p_vector=}')\n",
    "    # TODO(ASN): 3.4.2. Improved password-distance similarity\n",
    "    cls = cosine_length_similarity(spv, p_vector)\n",
    "    return cls, classify(cls)\n",
    "\n",
    "\n",
    "def average_strength_value(func, pass_length=18, alphabeth=string.printable):\n",
    "    alphabeth_length = len(alphabeth)  # 100 in string.printable\n",
    "    return ceil(sum(func(c) for c in alphabeth) / alphabeth_length * pass_length)\n",
    "\n",
    "\n",
    "def not_alpha(c: str) -> bool:\n",
    "    return not c.isalpha()\n",
    "\n",
    "\n",
    "def strong_pass_vector(pass_length=18):  # A random password should have this vector\n",
    "    pass_values = {\n",
    "        'n_digits': average_strength_value(str.isdigit),\n",
    "        'n_lowercase': average_strength_value(str.islower),\n",
    "        'n_uppercase': average_strength_value(str.isupper),\n",
    "        'n_special_chars': average_strength_value(not_alpha),\n",
    "        'password_length': pass_length,\n",
    "    }\n",
    "    return [pass_values[k] * COMPONENT_WEIGHT[k] for k in COMPONENT_WEIGHT.keys()]\n",
    "\n",
    "password = 'P4ssword'\n",
    "print(f'{password=}')\n",
    "print(LPSE(password))"
   ]
  },
  {
   "cell_type": "markdown",
   "metadata": {
    "slideshow": {
     "slide_type": "notes"
    }
   },
   "source": [
    "Flere regler. Dato, brukernavn, plassering på keyboard. Bytte ut leetspeak. Mest vanlige 2 og 3 bokstavskombinasjoner byttes ut. Gjenstår password-length distance."
   ]
  },
  {
   "cell_type": "markdown",
   "metadata": {
    "slideshow": {
     "slide_type": "slide"
    }
   },
   "source": [
    "# HELPSE **H**ormomorphic Encrypted Lighthweight Password-Strength Estimation for password meters"
   ]
  },
  {
   "cell_type": "code",
   "execution_count": null,
   "metadata": {},
   "outputs": [],
   "source": []
  },
  {
   "cell_type": "markdown",
   "metadata": {
    "slideshow": {
     "slide_type": "skip"
    }
   },
   "source": [
    "Notater:\n",
    "ref: https://eprint.iacr.org/2016/421.pdf\n"
   ]
  }
 ],
 "metadata": {
  "celltoolbar": "Slideshow",
  "kernelspec": {
   "display_name": "Python 3 (ipykernel)",
   "language": "python",
   "name": "python3"
  },
  "language_info": {
   "codemirror_mode": {
    "name": "ipython",
    "version": 3
   },
   "file_extension": ".py",
   "mimetype": "text/x-python",
   "name": "python",
   "nbconvert_exporter": "python",
   "pygments_lexer": "ipython3",
   "version": "3.10.9"
  },
  "rise": {
   "enable_chalkboard": true,
   "scroll": true,
   "theme": "serif"
  },
  "varInspector": {
   "cols": {
    "lenName": 16,
    "lenType": 16,
    "lenVar": 40
   },
   "kernels_config": {
    "python": {
     "delete_cmd_postfix": "",
     "delete_cmd_prefix": "del ",
     "library": "var_list.py",
     "varRefreshCmd": "print(var_dic_list())"
    },
    "r": {
     "delete_cmd_postfix": ") ",
     "delete_cmd_prefix": "rm(",
     "library": "var_list.r",
     "varRefreshCmd": "cat(var_dic_list()) "
    }
   },
   "types_to_exclude": [
    "module",
    "function",
    "builtin_function_or_method",
    "instance",
    "_Feature"
   ],
   "window_display": false
  },
  "vscode": {
   "interpreter": {
    "hash": "4bb144b7fe00899a551865a1f55f9c1c439b1e9636aa86cfd978e426c39214a9"
   }
  }
 },
 "nbformat": 4,
 "nbformat_minor": 2
}
