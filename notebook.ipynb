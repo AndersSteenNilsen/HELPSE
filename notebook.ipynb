{
 "cells": [
  {
   "cell_type": "markdown",
   "metadata": {
    "slideshow": {
     "slide_type": "slide"
    }
   },
   "source": [
    "# Hjelp jeg prøvde å bruke Fully Homomorphic Encryption (FHE)"
   ]
  },
  {
   "cell_type": "markdown",
   "metadata": {
    "slideshow": {
     "slide_type": "fragment"
    }
   },
   "source": [
    "* Hva er Homomorphic Encryption\n",
    "  * Eksempler\n",
    "* Hva er Fully Homomorphic Encryptions?\n",
    "  * Eksempler\n",
    "* Mitt forsøk på å bruke FHE"
   ]
  },
  {
   "cell_type": "markdown",
   "metadata": {
    "slideshow": {
     "slide_type": "slide"
    }
   },
   "source": [
    "### Hva er kryptering og hva brukes det til?\n",
    "* Lagre data\n",
    "* Sende data"
   ]
  },
  {
   "cell_type": "markdown",
   "metadata": {
    "slideshow": {
     "slide_type": "fragment"
    }
   },
   "source": [
    "* Behandle data?"
   ]
  },
  {
   "cell_type": "markdown",
   "metadata": {
    "slideshow": {
     "slide_type": "slide"
    }
   },
   "source": [
    "![Screenshot 2023-02-22 164309.png](Screenshot_2023-02-22_164309.png)\n",
    ">the encryption function\n",
    "used\n",
    "will\n",
    "permit the\n",
    "computer system to\n",
    "operate\n",
    "on\n",
    "the data without decrypting\n",
    "it."
   ]
  },
  {
   "cell_type": "markdown",
   "metadata": {
    "slideshow": {
     "slide_type": "notes"
    }
   },
   "source": [
    "I 1978 lurte 3 smarte menn fra MIT på hvordan en fiktiv bank kunne bruke en server (time-shared service) til å kalkulere sensitive data fra sine låntakere uten å gi fra seg noe informasjon. Et av forslagene var å bruke homomorfisk kryptering.\n",
    "\n",
    "Dette var kun teoretisk i 30 år før Gentry laget det først FHE rammeverket i 2009. I 2011 kom Microsoft ut med et paper “Can Homomorphic Encryption be Practical?”. I 2018 kom Microsoft ut med en implementasjon kalt Simple Encrypted Arithmetic Library (SEAL). Og i 2022 kom Edge med Password Monitor som bruker FHE til å sjekke om passordet ditt finnes i lekkede passord-databaser. (Chrome kom kort tid etterpå med en hash-basert løsning).\n"
   ]
  },
  {
   "cell_type": "markdown",
   "metadata": {
    "slideshow": {
     "slide_type": "slide"
    }
   },
   "source": [
    "# Hva er Homomorphic Encryption?\n",
    "* Anna har en melding $m$.\n",
    "* Anna krypterer $m$. $\\text{enc}(m)$.\n",
    "* Anna sender $\\text{enc}(m)$ til server.\n",
    "* Serveren gjør en funksjon $f()$ på den krypterte meldingen $\\text{enc}(f(m))$.\n",
    "* Serveren sender krypterte resultatet $\\text{enc}(f(m))$ tilbake.\n",
    "* Anna kan dekryptere svaret. $\\text{dec}((\\text{enc}(f(m))) = f(m)$."
   ]
  },
  {
   "cell_type": "markdown",
   "metadata": {
    "slideshow": {
     "slide_type": "subslide"
    }
   },
   "source": [
    "### RSA\n",
    "1. Bob selects two large prime $p<<0$ and $q<<0$ and calclate $n=p \\times q$\n",
    "2. Bob calculate $\\phi(n) = (p-1)(q-1)$. Choose $e$ such that $\\gcd(e, \\phi(n))=1$.\n",
    "3. Bob calculate private key $d$ to be the modular inverse of $e$, in other words $de \\equiv 1 (\\mod \\phi(n))$.\n",
    "4. Bob sends the public key $p_k = n,p$\n",
    "5. Anna encrypts message $m$ to ciphertext $c \\equiv m^e (\\mod n)$. And sends it.\n",
    "6. Bob computes the message $c^d \\equiv m (\\mod n)$"
   ]
  },
  {
   "cell_type": "markdown",
   "metadata": {
    "slideshow": {
     "slide_type": "notes"
    }
   },
   "source": [
    "Før FHE RSA"
   ]
  },
  {
   "cell_type": "code",
   "execution_count": 8,
   "metadata": {
    "slideshow": {
     "slide_type": "subslide"
    }
   },
   "outputs": [
    {
     "name": "stdout",
     "output_type": "stream",
     "text": [
      "n=187\n",
      "1\n",
      "cipher=36\n",
      "message_recieved=42, message_recieved==message_sent=True\n"
     ]
    }
   ],
   "source": [
    "from math import gcd\n",
    "# Bobs computer\n",
    "p, q, e = 11, 17, 3 # pretend that p and 1 are large (4096 bits)\n",
    "n = p * q #187\n",
    "print(f'{n=}')\n",
    "phi_n = (p-1)*(q-1)\n",
    "print(f'{gcd(e, phi_n)}')\n",
    "d = pow(e, -1, mod = phi_n)\n",
    "\n",
    "# Annas computer\n",
    "message_sent = 42\n",
    "cipher = message_sent**e % n\n",
    "print(f'{cipher=}')\n",
    "\n",
    "# Bobs computer\n",
    "message_recieved = cipher**d % n\n",
    "print(f'{message_recieved=}, {message_recieved==message_sent=}')\n"
   ]
  },
  {
   "cell_type": "markdown",
   "metadata": {
    "slideshow": {
     "slide_type": "subslide"
    }
   },
   "source": [
    "\n",
    "### Multiplicative homomorphism in RSA"
   ]
  },
  {
   "cell_type": "code",
   "execution_count": 2,
   "metadata": {
    "slideshow": {
     "slide_type": "fragment"
    }
   },
   "outputs": [
    {
     "name": "stdout",
     "output_type": "stream",
     "text": [
      "n=10403\n",
      "gcd(e, phi_n)=1\n",
      "(cipher_j,cipher_k)=(2717, 295)\n",
      "(message_recieved, message_recieved==message_product, message_recieved==message_product%n)=(420, True, True)\n"
     ]
    }
   ],
   "source": [
    "from math import gcd\n",
    "# Bobs computer\n",
    "# p, q, e = 11, 17, 3\n",
    "#p, q = 101, 103\n",
    "# e = 7\n",
    "n = p * q\n",
    "print(f'{n=}')\n",
    "phi_n = (p-1)*(q-1)\n",
    "print(f'{gcd(e, phi_n)=}')\n",
    "d = pow(e, -1, mod = phi_n)\n",
    "\n",
    "# Annas computer\n",
    "message_sent_j = 10\n",
    "message_sent_k = 42\n",
    "message_product = message_sent_j * message_sent_k # Only for verification\n",
    "cipher_j = message_sent_j**e % n\n",
    "cipher_k = message_sent_k**e % n\n",
    "print(f'{(cipher_j,cipher_k)=}')\n",
    "\n",
    "#Homomorphic calculation\n",
    "cipher_product = cipher_k * cipher_j\n",
    "\n",
    "# Bobs computer\n",
    "message_recieved = cipher_product**d % n\n",
    "print(f'{(message_recieved, message_recieved==message_product, message_recieved==message_product%n)=}')"
   ]
  },
  {
   "cell_type": "code",
   "execution_count": null,
   "metadata": {},
   "outputs": [],
   "source": []
  },
  {
   "cell_type": "markdown",
   "metadata": {
    "slideshow": {
     "slide_type": "skip"
    }
   },
   "source": [
    "### Takebacks\n",
    "Ikke evig multiplikasjoner, `ciper_product`$ \\equiv  m_j \\times m_j \\bmod {n}$"
   ]
  },
  {
   "cell_type": "markdown",
   "metadata": {
    "slideshow": {
     "slide_type": "notes"
    }
   },
   "source": [
    "Dette kalles partially Homomorphic schemes. Kan enten pluss eller gange. Ikke evig multiplikasjoner, ciper_product ≡𝑚𝑗×𝑚𝑗mod𝑛"
   ]
  },
  {
   "cell_type": "markdown",
   "metadata": {
    "slideshow": {
     "slide_type": "slide"
    }
   },
   "source": [
    "## Paillier"
   ]
  },
  {
   "cell_type": "markdown",
   "metadata": {
    "slideshow": {
     "slide_type": "subslide"
    }
   },
   "source": [
    "### Generate keys\n",
    "$$\n",
    "\\begin{align}\n",
    "\\mathbb{Z}_n &= \\{0,1,2, \\ldots, n-1\\} \\\\\n",
    "p,q &\\in \\mathbb{N}_{p(rime)} | \\gcd ( pq, (p−1)(q−1))=1 \\\\\n",
    "n &=pq\\\\\n",
    "\\lambda &= \\text{lcm} (p-1,q-1) \\\\\n",
    "g   &\\in_R \\mathbb{Z}_{n^2}^* \\\\\n",
    "L(x)& = {{x-1}\\over n} \\\\\n",
    "\\mu &=(L(g^{\\lambda }{\\bmod \\; n}^{2}))^{{-1}}{\\bmod \\; n}\n",
    "b \\\\\n",
    "\\text{public key} =  k_{pub} &= (n, g)  \\\\\n",
    "\\text{private key} = k_{priv} &= (\\lambda, \\mu)  \\\\\n",
    "\\end{align}\n",
    "$$"
   ]
  },
  {
   "cell_type": "markdown",
   "metadata": {
    "slideshow": {
     "slide_type": "notes"
    }
   },
   "source": [
    "Extended Euclidean Algorithm for å finne invers"
   ]
  },
  {
   "cell_type": "markdown",
   "metadata": {
    "slideshow": {
     "slide_type": "subslide"
    }
   },
   "source": [
    "$$\n",
    "\\text{\\{public key, private_key\\}} =  \\{k_{pub},k_{priv}\\}  =  \\{(n, g),(\\lambda, \\mu)\\}\n",
    "$$\n",
    "### Encrypt one message\n",
    "$$\n",
    "\\begin{align}\n",
    "\\text{message} &= m \\in \\mathbb{Z}_n \\\\\n",
    "\\text{random seed} &= r \\in_R \\mathbb{N} | \\gcd(r,n)=1 \\\\\n",
    "\\text{ciphertext} &=c =\\mathcal{E}(m) = g^m \\times r^n &\\bmod\\; n^2 \\\\\n",
    "\\end{align}\n",
    "$$\n",
    "\n",
    "### Decrypt\n",
    "$$\n",
    "\\begin{align}\n",
    "L(x)& = {{x-1}\\over n} \\\\\n",
    "m &=L(c^{\\lambda} \\bmod \\; n^2) \\times \\mu \\bmod \\; n\n",
    "\\end{align}\n",
    "$$"
   ]
  },
  {
   "cell_type": "markdown",
   "metadata": {
    "slideshow": {
     "slide_type": "notes"
    }
   },
   "source": [
    "Legg merke til at man multipliserer $g^m$ og $r^n$"
   ]
  },
  {
   "cell_type": "markdown",
   "metadata": {
    "slideshow": {
     "slide_type": "subslide"
    }
   },
   "source": [
    "$$\n",
    "\\text{\\{public key, private_key\\}} =  \\{k_{pub},k_{priv}\\}  =  \\{(n, g),(\\lambda, \\mu)\\}\n",
    "$$\n",
    "### Encrypt two messages\n",
    "$$\n",
    "\\begin{align}\n",
    "\\mathcal{E}(m_1) &= g^{m_1} r_1^n&\\bmod \\;n^2 \\\\\n",
    "\\mathcal{E}(m_2) &= g^{m_2} r_2^n&\\bmod \\;n^2 \\\\\n",
    "\\end{align}\n",
    "$$\n",
    "\n",
    "### Homomorphic addition of two ciphertexts\n",
    "$$\n",
    "\\begin{align}\n",
    "\\mathcal{E}(m_1) \\times \\mathcal{E}(m_2) &= (g^{m_1} r_1^n)\\times(g^{m_2} r_2^n) \\bmod \\;n^2 \\\\\n",
    "&= g^{m_1 + m_2} (r_1 \\times r_2)^n \\bmod\\; n^2 &\\; r_x = r_1\\times r_2 \\\\\n",
    "&= \\mathcal{E}(m_1 + m_2)\\\\\n",
    "\\end{align}\n",
    "$$"
   ]
  },
  {
   "cell_type": "markdown",
   "metadata": {
    "slideshow": {
     "slide_type": "notes"
    }
   },
   "source": [
    "Man multipliserer krypterte outputten for å addere message."
   ]
  },
  {
   "cell_type": "markdown",
   "metadata": {
    "slideshow": {
     "slide_type": "fragment"
    }
   },
   "source": [
    "### Homomorphic mulitplication of one ciphertext and non-encrypted constant  $k$\n",
    "$$\n",
    "\\begin{align}\n",
    "\\mathcal{E}(m)            &= g^m r^n\\\\\n",
    "\\mathcal{E}(m) \\times g^k &= g^m r^n \\times g^k\\\\\n",
    "                          &= g^{m+k} r^n\\\\\n",
    "\\end{align}\n",
    "$$"
   ]
  },
  {
   "cell_type": "code",
   "execution_count": 9,
   "metadata": {
    "slideshow": {
     "slide_type": "subslide"
    }
   },
   "outputs": [
    {
     "name": "stdout",
     "output_type": "stream",
     "text": [
      "decrypted=[33, 66, 99, 43, 330]\n"
     ]
    }
   ],
   "source": [
    "from phe import paillier\n",
    "public_key, private_key = paillier.generate_paillier_keypair()\n",
    "messages = [33, 66]\n",
    "cipher_texts = [public_key.encrypt(x) for x in messages]\n",
    "\n",
    "# Ciphertext addition\n",
    "cipher_texts.append(cipher_texts[0]+cipher_texts[1])\n",
    "# Ciphertext multiplication will fail\n",
    "# cipher_texts.append(cipher_texts[0]*cipher_texts[1])\n",
    "\n",
    "# Non encrypted constant\n",
    "cipher_texts.append(cipher_texts[0]+10) # 33 + 10\n",
    "cipher_texts.append(cipher_texts[0]*10) # 33 * 10\n",
    "\n",
    "decrypted = [private_key.decrypt(x) for x in cipher_texts]\n",
    "print(f'{decrypted=}')"
   ]
  },
  {
   "cell_type": "markdown",
   "metadata": {
    "slideshow": {
     "slide_type": "notes"
    }
   },
   "source": [
    "Notater:\n"
   ]
  },
  {
   "cell_type": "markdown",
   "metadata": {
    "slideshow": {
     "slide_type": "slide"
    }
   },
   "source": [
    "# Hva kan homomorphism brukes til?\n",
    "* Anonym avstemning\n",
    "* Anonym treningsdata til K.I.\n",
    "* Kan kanskje *ikke* brukes der du *ikke* vil ha *mallebility*.\n",
    "    * Noen hacker din krypterte IOU liste og ganger alle beløp med 2.\n",
    "* ?? Kanskje ikke så mye mer...?\n",
    "* ...Men hva om vi fikk til både $\\times$ OG $+$ ???"
   ]
  },
  {
   "cell_type": "markdown",
   "metadata": {
    "slideshow": {
     "slide_type": "subslide"
    }
   },
   "source": [
    "# $\\{ \\times, + \\} \\rightarrow \\{\\wedge, \\vee, \\oplus, \\; \\neg \\} \\Leftrightarrow \\{\\&,|,\\text{^},!\\} $\n",
    "\n",
    "$$\n",
    "\\begin{align}\n",
    "a,b &\\in\\{0,1\\}\\\\\n",
    "a\\oplus b & \\Leftrightarrow a+b &\\bmod 2 \\\\\n",
    "a\\wedge b & \\Leftrightarrow a\\times b \\\\\n",
    "a \\vee b & \\Leftrightarrow a + b + (a \\times b) &\\bmod 2\n",
    "\\end{align}\n",
    "$$\n",
    "\n",
    "| $a$ | $b$ |$ a\\oplus b$|$a \\wedge b$|$a \\vee b $|\n",
    "|:--|:--|:--|:--|:--|\n",
    "|$a$|$b$|$a+b\\bmod 2$|$a\\times b$| $a + b + (a \\times b) \\bmod 2$|\n",
    "| 0 | 0 |$0+0=0$     |$0 \\times 0 = 0$|$0+0+(0 \\times0) = 0$|\n",
    "| 0 | 1 |$0+1=1$     |$0 \\times 1 = 0$|$0+1+(0\\times 1) =1$|\n",
    "| 1 | 0 |$1+0=1$     |$1 \\times 0 = 0$|$1+0+(1\\times 0) =1$|\n",
    "| 1 | 1 |$1+1= 2 \\equiv0\\bmod2$|$1 \\times 1 = 1$|$1+1+(1\\times 1)=3\\equiv1 \\bmod 2$|\n",
    "\n"
   ]
  },
  {
   "cell_type": "markdown",
   "metadata": {
    "slideshow": {
     "slide_type": "slide"
    }
   },
   "source": [
    "# FHE **F**ully **H**omomorphic **E**ncryption"
   ]
  },
  {
   "cell_type": "markdown",
   "metadata": {
    "slideshow": {
     "slide_type": "fragment"
    }
   },
   "source": [
    "### Historie (ref wiki)\n",
    "* 1978\n",
    "    * Teorisert\n",
    "* 1st gen\n",
    "    * Gentry lagde et *somewhoat homomorphic* krypterings-scheme. Dette kunne plausibilt bli FHE ved å *bootstrappe*(2009)- *Bootstrapping er når man kan implementere dekrypteringsalgoritmen i schemet.*\n",
    "    * Fully Homomorphic Encryption over the Integers (2010) https://eprint.iacr.org/2009/616\n",
    "* 2nd gen\n",
    "    * **BGV**(2011), LTV(2012), **BFV**(2012), GHS(2012), BLLN(2013)\n",
    "* 3rd gen\n",
    "    * FHEW(2014)\n",
    "    * TFHE(2016) Asiacrypt 2016+2017\n",
    "        * Finnes et rust-implementasjon som ser ut til å være nokså godt vedlikeholdt.\n",
    "        * > decrease the running time of their [FHEW] bootstrapping from 690ms to 13ms single core, using 16MB bootstrapping key instead of 1GB\n",
    "* 4th gen\n",
    "    * **CKKS**(2016)\n",
    "        * Homomorphic Encryption for Arithmetic of Approximate Numbers (HaaN) 2016, ASIACRYPT 2017\n",
    "        * In applications such as summing up encrypted real numbers, evaluating machine learning models on encrypted data, or computing distances of encrypted locations CKKS is going to be by far the best choice. (SEAL)\n",
    "        * In short, our encoding function is given by:\n",
    "        * ![Screenshot](CKKS_enc.png)\n",
    "        * > ...we show that our scheme can be applied to the efficient evaluation of transcendental functions such as multiplicative inverse, exponential function, logistic function and discrete Fourier transform.\n",
    "        * > The primary open problem is finding way to convert our scheme to a fully homomorphic scheme using bootstrapping.\n",
    "* 2018\n",
    "    * Microsoft Simple Encrypted Arithmetic Library (SEAL)\n",
    "        * BGV BFV og CKKS\n"
   ]
  },
  {
   "cell_type": "markdown",
   "metadata": {},
   "source": [
    "### Pros and cons\n",
    "\n",
    "**Pros**\n",
    "* Kan jobbe med kryptert data!\n",
    "* Quantum-safe\n",
    "\n",
    "**Cons**\n",
    "* Tregt med en stor T.\n",
    "    * 1 000 -> 1 000 000 saktere og bootstrapping kan ta opp itl flere minutt.\n",
    "* Krever mye minne.\n",
    "* Vanskelig å implementere (Iallefall for meg)"
   ]
  },
  {
   "cell_type": "markdown",
   "metadata": {
    "slideshow": {
     "slide_type": "notes"
    }
   },
   "source": [
    "Såkalt leveled scheme. Kan kun brukes til alle levlene er brukt opp. Bootstrapping\n",
    "* Når du har nådd syøt-budsjettet ditt, kan du ta imot tallet ditt, decryptere det, og sende det inn igjen krypter.\n",
    "* Bootstrapping: Å dekryptere kryptert data kryptert."
   ]
  },
  {
   "cell_type": "markdown",
   "metadata": {
    "slideshow": {
     "slide_type": "slide"
    }
   },
   "source": [
    "## Eksempler"
   ]
  },
  {
   "cell_type": "markdown",
   "metadata": {
    "slideshow": {
     "slide_type": "subslide"
    }
   },
   "source": [
    "### Edit-distance\n",
    "Microsoft prøvde i 2015 å se på edit-disctance på DNA. Her brukes et 4 tegns alfabet, **A**denine , **T**hymine, **G**uanine, **C**ytosine.\n",
    "\n",
    "https://www.microsoft.com/en-us/research/publication/homomorphic-computation-of-edit-distance/\n",
    "\n",
    "|(n, m)| Depth | Ring Mod $\\Phi_d$ |Key Enc|Total|Amortized|\n",
    "|-----------|---|-------|-------|-------|-------|\n",
    "|(1,1)|1|d=4369|256|1.4761s|0.1118s|0.0693s|0.0003s|\n",
    "|(2,2)|2|d=4369|256|1.8358s|0.2844s|0.2532s|0.0009s|\n",
    "|(3,3)|8|d=8191|630|7.0162s|1.7117s|34.3091s|0.0544s|\n",
    "|(4,4)|9|d=8191|630|7.4489s|2.4154s|67.5116s|0.1071s|\n",
    "|(6,6)|16|d=13981|600|16.1076s|9.9498s|26min|33s|2.6555s|\n",
    "|(8,8)|19|d=15709|682|27.5454s|16.4524s|4h 50min|25.4366s|\n",
    "|(50,50)|||||~1 day|\n",
    "\n",
    "> Currently we could not implement our algorithm for larger parameters [than (8,8)] due to large memory requirements"
   ]
  },
  {
   "cell_type": "markdown",
   "metadata": {
    "slideshow": {
     "slide_type": "subslide"
    }
   },
   "source": [
    "### FHEAAS\n",
    "Sør Koreanske ncloud.com gjør det mulig å utføre FHE på data for oss dødelige. Bruker Homomorphic Encryption for Arithmetic of Approximate Numbers (HEaaN) aka Cheon-Kim-Kim-Song CKKS.\n",
    "![heaan example](heaan-example_extask2_vpc_en.png)\n"
   ]
  },
  {
   "cell_type": "markdown",
   "metadata": {
    "slideshow": {
     "slide_type": "subslide"
    }
   },
   "source": [
    "### Microsoft Edge - Password manager\n",
    "![Edge-password-monitor](Edge-password-monitor.png)\n",
    "Private Set Intersection (PSI) refers to a functionality where two parties, each holding a private set of items, can check which items they have in common without revealing anything else to each other."
   ]
  },
  {
   "cell_type": "markdown",
   "metadata": {
    "slideshow": {
     "slide_type": "slide"
    }
   },
   "source": [
    "## Dypdykk i CKKS\n",
    "\n",
    "![Cryptotree_diagrams-2.svg](https://blog.openmined.org/content/images/2020/08/Cryptotree_diagrams-2.svg)\n",
    "Message $m$ vector (vector med floats) blir encodet til med en *Scaling factor* $\\Delta$ til Plaintext .\n",
    "Plaintext blir kryptert og får lengden $\\log Q$ bits"
   ]
  },
  {
   "cell_type": "markdown",
   "metadata": {
    "slideshow": {
     "slide_type": "subslide"
    }
   },
   "source": [
    "### Multiplisering\n",
    "\n",
    "* Message $m$ vector (vector med floats) blir encodet til med en *Scaling factor* $\\Delta$ til Plaintext .\n",
    "* Plaintext blir kryptert og får lengden $\\log Q$ bits\n",
    "* $Q = q_0 \\times \\Delta ^ \\ell $\n",
    "    * $ q_0$: Base modulus\n",
    "    * $ Q_l = q_0 \\times \\Delta ^\\ell$: Ciphertext modulus\n",
    "* Level\n",
    "    * Jeg ser på level $\\ell$ som liv i zelda, og når man har 0 liv igjen, kan man ikke f.eks gjøre flere multiplikasjoner.\n",
    "* Overordnet multiplikasjon.\n",
    "    * Multiplikasjon: $(ct_a, \\ell, \\Delta)\\times(ct_b,\\ell,\\Delta) \\rightarrow (ct_{mul}, \\ell, \\Delta^2)$. Scale øker.\n",
    "    * Relinearization: $(ct_{mul},\\ell,\\Delta^2)(ct'_{mul},\\ell, \\Delta^2)$ Relinearization gjør selve cipherteksten mindre.\n",
    "    * Rescale: $(ct'_{mul},\\ell,\\Delta^2)\\rightarrow(ct''_mul,\\ell-1,\\Delta)$"
   ]
  },
  {
   "cell_type": "markdown",
   "metadata": {
    "slideshow": {
     "slide_type": "subslide"
    }
   },
   "source": [
    "### Multipliseringsrekkefølge $((x\\times y) \\times z \\times w$\n",
    "![xy*z*y](xy_z_w.png)"
   ]
  },
  {
   "cell_type": "markdown",
   "metadata": {
    "slideshow": {
     "slide_type": "subslide"
    }
   },
   "source": [
    "### Multipliseringsrekkefølge $(x\\times y) \\times (z \\times w)$\n",
    "\n",
    "![xy_zy.png](xy_zw.png)"
   ]
  },
  {
   "cell_type": "markdown",
   "metadata": {
    "slideshow": {
     "slide_type": "slide"
    }
   },
   "source": [
    "## Mitt forsøk på å regne ut $\\pi x^3 + 0.4x + 1$"
   ]
  },
  {
   "cell_type": "code",
   "execution_count": 11,
   "metadata": {
    "slideshow": {
     "slide_type": "subslide"
    }
   },
   "outputs": [
    {
     "name": "stdout",
     "output_type": "stream",
     "text": [
      "4096\n",
      "log2(x_1_encrypted.scale())=40.0\n",
      "\n",
      "Compute x^2 and relinearize\n",
      "log2(x_2_encrypted.scale())=80.0\n",
      "Rescale x^2\n",
      "log2(x_2_encrypted.scale())=40.00000019347918 After rescale\n",
      "\n",
      "Compute and rescale π*x\n",
      "log2(x_π_encrypted.scale())=80.0\n",
      "log2(x_π_encrypted.scale())=40.00000019347918 after rescale\n",
      "\n",
      "Compute, relinearize, and rescale (π*x)*(x^2).\n",
      "log2(x_π_3_encrypted.scale())=80.00000038695836\n",
      "log2(x_π_3_encrypted.scale())=40.00000135435979 After rescale\n",
      "\n",
      "Start debug\n",
      "x^2 OK\n",
      "[\n",
      "4.656612873077393e-10\t1.0000000018626451\t3.999999994877726\t8.999999997671694\t15.999999993946403\t24.999999988358468\t36.00000000745058\n",
      "48.99999998928979\t64.0000000121072\t80.99999999860302\t100.00000002607703\t121.0000000083819\t143.99999998835847\t169.00000000325963\n",
      "196.00000001536682\t224.99999999906868\t255.99999999301508\t289.00000000651926\t323.99999998975545\t361.0000000097789\t400.0000000037253\n",
      "]\n",
      "pi*x ok\n",
      "[\n",
      "9.254108590539545e-10\t3.1400000006856317\t6.279999999051597\t9.419999996217484\t12.559999996104125\t15.699999998235853\t18.840000004252488\n",
      "21.979999998237872\t25.120000002298184\t28.25999999972646\t31.400000004208323\t34.540000001994486\t37.6799999989089\t40.81999999981008\n",
      "43.960000002090965\t47.100000000035834\t50.239999998950225\t53.38000000295369\t56.51999999959435\t59.66000000126314\t62.80000000010932\n",
      "]\n",
      "pi*x^3, not ok\n",
      "[\n",
      "-14823959.529677164\t-9714073.685125452\t-39652667.15971136\t-24739103.662588794\t4820108.072535294\t-22393460.721243337\t21484904.952872075\n",
      "29886967.392701827\t4458034.515081976\t-67158075.95914666\t39401575.8806716\t12163459.135628233\t267699.0764871985\t-6559722.963419523\n",
      "-18936652.84943941\t24066698.05649421\t22330639.660208624\t-2477988.43564051\t-14531417.78384909\t37415484.17323816\t8084934.793410912\n",
      "]\n",
      "Stop debug\n",
      "\n",
      "\n",
      "Compute and rescale 0.4*x\n",
      "log2(x_04_1_encrypted.scale())=80.0\n",
      "log2(x_04_1_encrypted.scale())=40.00000019347918 After rescale.\n",
      "context.get_context_data(x_π_3_encrypted.parms_id()).chain_index()=0\n",
      "context.get_context_data(x_04_1_encrypted.parms_id()).chain_index()=1\n",
      "context.get_context_data(plain_1.parms_id()).chain_index()=2\n",
      "log2(x_π_3_encrypted.scale())=40.00000135435979\n",
      "log2(x_04_1_encrypted.scale())=40.00000019347918\n",
      "log2(plain_1.scale())=40.0\n",
      "Normalize scales to 2^40\n",
      "\n",
      "Normalize encryption parameters to the lowest level.\n",
      "last_parms_id=[3094887576028189814, 16260122011913516723, 17089716828616948813, 10734692503313013530]\n",
      "Compute PI*x^3 + 0.4*x + 1.\n",
      "expected:\n",
      "[\n",
      "1.0\t4.54\t26.92\t86.98\t203.56\t395.5\t681.64\n",
      "1080.82\t1611.88\t2293.66\t3145.0\t4184.74\t5431.72\t6904.78\n",
      "8622.76\t10604.5\t12868.84\t15434.619999999999\t18320.68\t21545.86\t25129.0\n",
      "]\n",
      "Actual/FHE calculated:\n",
      "[\n",
      "-14823972.445982108\t-9714081.404417135\t-39652702.584489636\t-24739124.686944455\t4820115.197513721\t-22393478.74357704\t21484928.522280455\n",
      "29886999.24972376\t4458042.900156405\t-67158134.4052077\t39401617.86973329\t12163475.954332864\t267705.1277959971\t-6559722.921497241\n",
      "-18936664.02662128\t24066727.64961587\t22330668.02356886\t-2477982.9619035525\t-14531423.225523323\t37415527.897814795\t8084951.383315202\n",
      "]\n"
     ]
    }
   ],
   "source": [
    "from seal import (\n",
    "    EncryptionParameters,\n",
    "    scheme_type,\n",
    "    CoeffModulus,\n",
    "    PlainModulus,\n",
    "    SEALContext,\n",
    "    KeyGenerator,\n",
    "    Encryptor,\n",
    "    Evaluator,\n",
    "    Decryptor,\n",
    "    BatchEncoder,\n",
    "    CKKSEncoder,\n",
    "    Ciphertext,\n",
    "    Plaintext,\n",
    ")\n",
    "\n",
    "from math import log2\n",
    "\n",
    "\n",
    "def print_vector(vector, rows, cols):\n",
    "    print('[')\n",
    "    for r in range(rows):\n",
    "        print(*vector[r*cols:(r+1)*cols], sep='\\t')\n",
    "    print(']')\n",
    "\n",
    "# In this example we demonstrate evaluating a polynomial function\n",
    "\n",
    "#     PI*x^3 + 0.4*x + 1\n",
    "\n",
    "# on encrypted floating-point input data x for a set of 4096 equidistant points\n",
    "# in the interval [0, 1]. This example demonstrates many of the main features\n",
    "# of the CKKS scheme, but also the challenges in using it.\n",
    "\n",
    "# We start by setting up the CKKS scheme.\n",
    "\n",
    "parms = EncryptionParameters(scheme_type.ckks)\n",
    "poly_modulus_degree = 2**13\n",
    "parms.set_poly_modulus_degree(poly_modulus_degree)\n",
    "p = [60, 40, 40, 60]  # P_0, P_1, P_2, P_3\n",
    "parms.set_coeff_modulus(CoeffModulus.Create(poly_modulus_degree, p))\n",
    "\n",
    "context = SEALContext(parms)\n",
    "encoder = CKKSEncoder(context)\n",
    "scale = 2.0 ** 40\n",
    "\n",
    "keygen = KeyGenerator(context)\n",
    "secret_key = keygen.secret_key()\n",
    "public_key = keygen.create_public_key()\n",
    "relin_keys = keygen.create_relin_keys()\n",
    "\n",
    "encryptor = Encryptor(context, public_key)\n",
    "evaluator = Evaluator(context)\n",
    "decryptor = Decryptor(context, secret_key)\n",
    "\n",
    "print(f'{encoder.slot_count()}')\n",
    "\n",
    "# Defining \"input\" data.\n",
    "x_vector = [float(i) for i in range(encoder.slot_count())]\n",
    "x_encoded = encoder.encode(x_vector, scale)\n",
    "x_1_encrypted = encryptor.encrypt(x_encoded)\n",
    "print(f'{log2(x_1_encrypted.scale())=}')\n",
    "\n",
    "# Computations start here.\n",
    "# encoding constants.\n",
    "pi_def = 3.14\n",
    "plain_π = encoder.encode(pi_def, scale)\n",
    "plain_04 = encoder.encode(0.4, scale)\n",
    "plain_1 = encoder.encode(1.0, scale)\n",
    "\n",
    "# To compute x^3 we first compute x^2 and relinearize.\n",
    "# However, the scale has now grown to 2^80.\n",
    "print('\\nCompute x^2 and relinearize')\n",
    "x_2_encrypted = evaluator.square(x_1_encrypted)\n",
    "evaluator.relinearize_inplace(x_2_encrypted, relin_keys)\n",
    "print(f'{log2(x_2_encrypted.scale())=}')\n",
    "\n",
    "\n",
    "# Now rescale; in addition to a modulus switch, the scale is reduced down by\n",
    "# a factor equal to the prime that was switched away (40-bit prime). Hence, the\n",
    "# new scale should be close to 2^40. Note, however, that the scale is not equal\n",
    "# to 2^40: this is because the 40-bit prime is only close to 2^40.\n",
    "print('Rescale x^2')\n",
    "evaluator.rescale_to_next_inplace(x_2_encrypted)\n",
    "print(f'{log2(x_2_encrypted.scale())=} After rescale')\n",
    "\n",
    "\n",
    "# Now x_2_encrypted is at a different level than x_1_encrypted, which prevents us\n",
    "# from multiplying them to compute x^3. We could simply switch x_1_encrypted to\n",
    "# the next parameters in the modulus switching chain. However, since we still\n",
    "# need to multiply the x^3 term with PI (plainCoeff3), we instead compute PI*x\n",
    "# first and multiply that with x^2 to obtain PI*x^3. To this end, we compute\n",
    "# PI*x and rescale it back from scale 2^80 to something close to 2^40.\n",
    "\n",
    "print('\\nCompute and rescale π*x')\n",
    "x_π_encrypted = evaluator.multiply_plain(x_1_encrypted, plain_π)\n",
    "print(f'{log2(x_π_encrypted.scale())=}')\n",
    "evaluator.rescale_to_next_inplace(x_π_encrypted)\n",
    "print(f'{log2(x_π_encrypted.scale())=} after rescale')\n",
    "\n",
    "# Since x_2_encrypted and x_π_encrypted have the same exact scale and use\n",
    "# the same encryption parameters, we can multiply them together. We write the\n",
    "# result to x_2_encrypted, relinearize, and rescale. Note that again the scale\n",
    "# is something close to 2^40, but not exactly 2^40 due to yet another scaling\n",
    "# by a prime. We are down to the last level in the modulus switching chain.\n",
    "\n",
    "print('\\nCompute, relinearize, and rescale (π*x)*(x^2).')\n",
    "x_π_3_encrypted = evaluator.multiply(x_π_encrypted, x_2_encrypted)\n",
    "evaluator.relinearize_inplace(x_π_3_encrypted, relin_keys)\n",
    "print(f'{log2(x_π_3_encrypted.scale())=}')\n",
    "evaluator.rescale_to_next_inplace(x_π_3_encrypted)\n",
    "print(f'{log2(x_π_3_encrypted.scale())=} After rescale')\n",
    "\n",
    "#DEBUG\n",
    "print('\\nStart debug')\n",
    "print('x^2 OK')\n",
    "p_x2 = decryptor.decrypt(x_2_encrypted)\n",
    "r_x2 = encoder.decode(p_x2)\n",
    "print_vector(r_x2, 3, 7)\n",
    "\n",
    "print('pi*x ok')\n",
    "p_xpi = decryptor.decrypt(x_π_encrypted)\n",
    "r_xpi = encoder.decode(p_xpi)\n",
    "print_vector(r_xpi, 3, 7)\n",
    "\n",
    "print('pi*x^3, not ok')\n",
    "p_xpi3 = decryptor.decrypt(x_π_3_encrypted)\n",
    "r_xpi3 = encoder.decode(p_xpi3)\n",
    "print_vector(r_xpi3, 3, 7)\n",
    "print('Stop debug\\n')\n",
    "#DEBUG\n",
    "\n",
    "# Next we compute the degree one term. All this requires is one MultiplyPlain\n",
    "# with plainCoeff1. We overwrite x1Encrypted with the result.\n",
    "\n",
    "print('\\nCompute and rescale 0.4*x')\n",
    "x_04_1_encrypted = evaluator.multiply_plain(x_1_encrypted, plain_04)\n",
    "print(f'{log2(x_04_1_encrypted.scale())=}')\n",
    "evaluator.rescale_to_next_inplace(x_04_1_encrypted)\n",
    "print(f'{log2(x_04_1_encrypted.scale())=} After rescale.')\n",
    "\n",
    "# Now we would hope to compute the sum of all three terms. However, there is\n",
    "# a serious problem: the encryption parameters used by all three terms are\n",
    "# different due to modulus switching from rescaling.\n",
    "\n",
    "# Encrypted addition and subtraction require that the scales of the inputs are\n",
    "# the same, and also that the encryption parameters (ParmsId) match. If there\n",
    "# is a mismatch, Evaluator will throw an exception.\n",
    "print(f'{context.get_context_data(x_π_3_encrypted.parms_id()).chain_index()=}')\n",
    "print(f'{context.get_context_data(x_04_1_encrypted.parms_id()).chain_index()=}')\n",
    "print(f'{context.get_context_data(plain_1.parms_id()).chain_index()=}')\n",
    "\n",
    "# Let us carefully consider what the scales are at this point. We denote the\n",
    "# primes in coeff_modulus as P_0, P_1, P_2, P_3, in this order. P_3 is used as\n",
    "# the special modulus and is not involved in rescalings. After the computations\n",
    "# above the scales in ciphertexts are:\n",
    "\n",
    "#     - Product x^2 has scale 2^80 and is at level 2;\n",
    "#     - Product PI*x has scale 2^80 and is at level 2;\n",
    "#     - We rescaled both down to scale 2^80/P2 ~= 2^40 and level 1;\n",
    "#     - Product PI*x^3 has scale (2^80/P_2)^2;\n",
    "#     - We rescaled it down to scale ((2^80/P_2)^2)/P_1 ~= 2^40 and level 0;\n",
    "#     - Product 0.4*x has scale 2^80;\n",
    "#     - We rescaled it down to scale 2^80/P_2 and level 1;\n",
    "#     - The constant term 1 has scale 2^40 and is at level 2.\n",
    "\n",
    "# Although the scales of all three terms are approximately 2^40, their exact\n",
    "# values are different, hence they cannot be added together.\n",
    "\n",
    "print(f'{log2(x_π_3_encrypted.scale())=}')\n",
    "print(f'{log2(x_04_1_encrypted.scale())=}')\n",
    "print(f'{log2(plain_1.scale())=}')\n",
    "\n",
    "# There are many ways to fix this problem. Since P_2 and P_1 are really close\n",
    "# to 2^40, we can simply \"lie\" to Microsoft SEAL and set the scales to be the\n",
    "# same. For example, changing the scale of PI*x^3 to 2^40 simply means that we\n",
    "# scale the value of PI*x^3 by 2^120/(P_2^2*P_1), which is very close to 1.\n",
    "# This should not result in any noticeable error.\n",
    "\n",
    "# Another option would be to encode 1 with scale 2^80/P_2, do a MultiplyPlain\n",
    "# with 0.4*x, and finally rescale. In this case we would need to additionally\n",
    "# make sure to encode 1 with appropriate encryption parameters (ParmsId).\n",
    "\n",
    "# In this example we will use the first (simplest) approach and simply change\n",
    "# the scale of PI*x^3 and 0.4*x to 2^40.\n",
    "print('Normalize scales to 2^40')\n",
    "x_π_3_encrypted.scale(2**40)\n",
    "x_04_1_encrypted.scale(2**40)\n",
    "\n",
    "# We still have a problem with mismatching encryption parameters. This is easy\n",
    "# to fix by using traditional modulus switching (no rescaling). CKKS supports\n",
    "# modulus switching just like the BFV scheme, allowing us to switch away parts\n",
    "# of the coefficient modulus when it is simply not needed.\n",
    "print('\\nNormalize encryption parameters to the lowest level.')\n",
    "last_parms_id = x_π_3_encrypted.parms_id()\n",
    "print(f'{last_parms_id=}')\n",
    "evaluator.mod_switch_to_inplace(x_04_1_encrypted, last_parms_id)\n",
    "evaluator.mod_switch_to_inplace(plain_1, last_parms_id)\n",
    "\n",
    "# All three ciphertexts are now compatible and can be added.\n",
    "print('Compute PI*x^3 + 0.4*x + 1.')\n",
    "sum_encrypted = evaluator.add(x_04_1_encrypted, x_π_3_encrypted)\n",
    "sum_encrypted = evaluator.add_plain(sum_encrypted, plain_1)\n",
    "\n",
    "# First print the true result.\n",
    "print('expected:')\n",
    "expected = [pi_def*x**3 + 0.4*x + 1 for x in x_vector]\n",
    "print_vector(expected, 3, 7)\n",
    "\n",
    "\n",
    "\n",
    "# We decrypt, decode, and print the result.\n",
    "print('Actual/FHE calculated:')\n",
    "plain_result = decryptor.decrypt(sum_encrypted)\n",
    "result = encoder.decode(plain_result)\n",
    "print_vector(result, 3, 7)\n",
    "\n"
   ]
  },
  {
   "cell_type": "markdown",
   "metadata": {
    "slideshow": {
     "slide_type": "slide"
    }
   },
   "source": [
    "### Neste gang\n",
    "* Teste ut TFHE-rs\n",
    "* Teste ut \n",
    "* Finne ut feilen i koden\n",
    "* \"Play Chess\" in FHE with Concrete-ML !5k euro bounty!\n",
    "* Kanskje flere nye idéer etter eurocrypt"
   ]
  },
  {
   "cell_type": "markdown",
   "metadata": {},
   "source": [
    "# Takk for meg"
   ]
  },
  {
   "cell_type": "markdown",
   "metadata": {
    "slideshow": {
     "slide_type": "slide"
    }
   },
   "source": [
    "# LPSE **L**ightweight **p**assword-**s**trength estimation for password meters\n",
    "\n",
    "> Password strength can be measured by comparing the\n",
    "> similarity between a given password vector and a standard\n",
    "> strong-password vector.\n",
    "> We determine the similarity between the two password\n",
    "> vectors from three aspects:\n",
    "> * the structure of the password\n",
    ">     * that is, what kinds of characters compose the password and the pro-portions of various characters\n",
    "> * the password length\n",
    "> * the number of insertion, substitution, and deletion operations required to transform a given password into a standard strong password. "
   ]
  },
  {
   "cell_type": "markdown",
   "metadata": {
    "slideshow": {
     "slide_type": "subslide"
    }
   },
   "source": [
    "### Passordvektor:\n",
    "\n",
    "En passordvektor ser slik ut: $\\alpha = x_1, x_2, x_3, x_4, x_5$. Der verdiene er hennoldsvis vektorverdi av tall, små bokstaver, store bokstaver, spesialtegn og lengden av passordet.\n",
    "\n",
    "Table 1 – General rules for mapping characters to\n",
    "vectors.\n",
    "|Patterns|Vector value| Example char $\\rightarrow$ vector|\n",
    "|--------|------------|------------------------------|\n",
    "|Digits|1| 8| $\\rightarrow$ 1|\n",
    "|Lowercase letters| 1| d $\\rightarrow$ 1|\n",
    "|Uppercase letters| 2| G $\\rightarrow$ 2|\n",
    "|Special characters| 3| & $\\rightarrow$ 3|\n",
    "|Two identical characters|Equivalent to one character vector|aa $\\rightarrow$ 1, 3a3a $\\rightarrow$ 2|\n",
    "|Two consecutive characters|Equivalent to one character vector|AB $\\rightarrow$ 2,1a2b $\\rightarrow$ 2|\n",
    "\n",
    "### En sterk passordvektor $\\alpha_{s(ecure)}$\n",
    "Paperet påstår:\n",
    "> we believe that a strong password should be randomly generated, and the password length should be greater than 16 characters.\n",
    "\n",
    "Hvor stor vil en passordvektoren til et tilfeldig passord på 16 tegn være?\n",
    "\n",
    "La oss ta utgangspunkt i et ASCII keyboard med 96 tegn, 10 tall, 26 små og store bokstaver og 32 spesialtegn. Et tilfledig generert passord burde derfor bestå av:\n",
    "* $16 \\times {10 \\over 96} \\approx 2$ tall.\n",
    "* $16 \\times {26 \\over 96} \\approx 5$ små bokstaver.\n",
    "* $16 \\times {26 \\over 96} \\approx 5$ store bokstaver.\n",
    "* $16 \\times {32 \\over 96} \\approx 6$ spesialtegn.\n",
    "\n",
    "... og derfor ha passordvektoren $\\alpha_s = \\{2,5,10,18,18\\}$\n"
   ]
  },
  {
   "cell_type": "markdown",
   "metadata": {
    "slideshow": {
     "slide_type": "subslide"
    }
   },
   "source": [
    "### Eksempel\n",
    "Hvilken vektor vil passordet `aa35*TX1` ha?\n",
    "* Fjern alle like og bokstaver i rekkefølge. `a35*TX1`\n",
    "* Hvor mange tall har vi? $x_1=3$\n",
    "* Hvor mange små bokstaver har vi? $x_2=1$\n",
    "* Hvor mange store bokstaver har vi? $x_3=2\\times2=4$\n",
    "* Hvor mange tegn har vi? $x_4 = 1 \\times 3 = 3$\n",
    "* Hvor langt er passordet? $x_5 = 8$\n",
    "\n",
    "$\\alpha_{\\text{aa35*TX1}}=\\{3,1,4,3\\}$\n",
    "\n",
    "### Cosine similarity $cos(\\phi)$\n",
    "$$\n",
    "\\begin{align}\n",
    "\\text{Vectors}\\;A,B\\\\\n",
    "\\text{cosine similarity} &= cos(\\phi)\\\\\n",
    " &= {{A \\cdot B}\\over {||A|| \\times ||B||}} \\\\\n",
    " &={ {\\sum_{n=1}^n A_i \\cdot B_i}\\over{\\sqrt { \\sum_{n=1}^n A_i^2} \\cdot \\sqrt{ \\sum_{n=1}^n A_i^2}}}\n",
    "\\end{align}\n",
    "$$\n",
    "\n",
    "### Cosine-length similarity $s_c(\\alpha)$\n",
    "\n",
    "$$\n",
    "\\begin{align}\n",
    "\\text{Passord som testes} &= \\alpha\\\\\n",
    "\\text{sikker passordvektor} &= \\alpha_s\\\\\n",
    "s_c(\\alpha) &= \\cos(\\phi)\\times {{\\min(|\\alpha||\\alpha_s|)} \\over {\\max(|\\alpha||\\alpha_s|)}} \\\\\n",
    "|\\alpha| &= \\sqrt{\\sum{5}_{i=1}(x_i)^2}\n",
    "\\end{align}\n",
    "$$"
   ]
  },
  {
   "cell_type": "markdown",
   "metadata": {
    "slideshow": {
     "slide_type": "subslide"
    }
   },
   "source": [
    "### Password-distane\n",
    "Dersom Microsoft gikk tom for minne for å se på edit-distance ved et 4-alfabets string på lengde over 8, så ville jeg slitt med et 96-alfabets passord på lengde 18."
   ]
  },
  {
   "cell_type": "raw",
   "metadata": {
    "slideshow": {
     "slide_type": "subslide"
    }
   },
   "source": [
    "from math import ceil, sqrt\n",
    "import sys\n",
    "import string\n",
    "\n",
    "\n",
    "COMPONENT_WEIGHT = {\n",
    "    'n_digits': 1,\n",
    "    'n_lowercase': 1,\n",
    "    'n_uppercase': 2,\n",
    "    'n_special_chars': 3,\n",
    "    'password_length': 1,\n",
    "}\n",
    "\n",
    "\n",
    "def cosine_similarity(x: str, y: str) -> float:\n",
    "    numerator = 0\n",
    "    for xi, yi in zip(x, y):\n",
    "        numerator += xi * yi\n",
    "\n",
    "    sum_x_squared = sum(xi**2 for xi in x)\n",
    "    sum_y_squared = sum(yi**2 for yi in y)\n",
    "\n",
    "    denomerator = sqrt(sum_x_squared * sum_y_squared)\n",
    "    return numerator / denomerator\n",
    "\n",
    "\n",
    "def cosine_length_similarity(x: str, y: str) -> float:\n",
    "    cos = cosine_similarity(x, y)\n",
    "    x_length = sqrt(sum(xi**2 for xi in x))\n",
    "    y_length = sqrt(sum(yi**2 for yi in y))\n",
    "\n",
    "    return cos * min(x_length, y_length) / max(x_length, y_length)\n",
    "\n",
    "\n",
    "def pass_vector(password: str):\n",
    "    pass_values = {\n",
    "        'n_digits': sum(c.isdigit() for c in password),\n",
    "        'n_lowercase': sum(c.islower() for c in password),\n",
    "        'n_uppercase': sum(c.isupper() for c in password),\n",
    "        'n_special_chars': sum(not c.isalnum() for c in password),\n",
    "        'password_length': len(password),\n",
    "    }\n",
    "    return [pass_values[k] * COMPONENT_WEIGHT[k] for k in COMPONENT_WEIGHT.keys()]\n",
    "\n",
    "def classify(cls_score: float) -> string:\n",
    "    if cls_score >= 0.4:\n",
    "        return 'strong'\n",
    "    if cls_score <= 0.19:\n",
    "        return 'weak'\n",
    "\n",
    "    return 'medium'\n",
    "\n",
    "\n",
    "def LPSE(password: str) -> tuple[float, str]:\n",
    "    spv = strong_pass_vector()\n",
    "    p_vector = pass_vector(password)\n",
    "    print(f'{p_vector=}')\n",
    "    # TODO(ASN): 3.4.2. Improved password-distance similarity\n",
    "    cls = cosine_length_similarity(spv, p_vector)\n",
    "    return cls, classify(cls)\n",
    "\n",
    "\n",
    "def average_strength_value(func, pass_length=18, alphabeth=string.printable):\n",
    "    alphabeth_length = len(alphabeth)  # 100 in string.printable\n",
    "    return ceil(sum(func(c) for c in alphabeth) / alphabeth_length * pass_length)\n",
    "\n",
    "\n",
    "def not_alpha(c: str) -> bool:\n",
    "    return not c.isalpha()\n",
    "\n",
    "\n",
    "def strong_pass_vector(pass_length=18):  # A random password should have this vector\n",
    "    pass_values = {\n",
    "        'n_digits': average_strength_value(str.isdigit),\n",
    "        'n_lowercase': average_strength_value(str.islower),\n",
    "        'n_uppercase': average_strength_value(str.isupper),\n",
    "        'n_special_chars': average_strength_value(not_alpha),\n",
    "        'password_length': pass_length,\n",
    "    }\n",
    "    return [pass_values[k] * COMPONENT_WEIGHT[k] for k in COMPONENT_WEIGHT.keys()]\n",
    "\n",
    "password = 'P4ssword'\n",
    "print(f'{password=}')\n",
    "print(LPSE(password))"
   ]
  },
  {
   "cell_type": "markdown",
   "metadata": {
    "slideshow": {
     "slide_type": "notes"
    }
   },
   "source": [
    "Flere regler. Dato, brukernavn, plassering på keyboard. Bytte ut leetspeak. Mest vanlige 2 og 3 bokstavskombinasjoner byttes ut. Gjenstår password-length distance."
   ]
  },
  {
   "cell_type": "markdown",
   "metadata": {
    "slideshow": {
     "slide_type": "slide"
    }
   },
   "source": [
    "# HELPSE **H**ormomorphic Encrypted Lighthweight Password-Strength Estimation for password meters"
   ]
  },
  {
   "cell_type": "code",
   "execution_count": null,
   "metadata": {},
   "outputs": [],
   "source": []
  },
  {
   "cell_type": "markdown",
   "metadata": {
    "slideshow": {
     "slide_type": "skip"
    }
   },
   "source": [
    "Notater:\n",
    "ref: https://eprint.iacr.org/2016/421.pdf\n"
   ]
  }
 ],
 "metadata": {
  "celltoolbar": "Slideshow",
  "kernelspec": {
   "display_name": "Python 3 (ipykernel)",
   "language": "python",
   "name": "python3"
  },
  "language_info": {
   "codemirror_mode": {
    "name": "ipython",
    "version": 3
   },
   "file_extension": ".py",
   "mimetype": "text/x-python",
   "name": "python",
   "nbconvert_exporter": "python",
   "pygments_lexer": "ipython3",
   "version": "3.10.9"
  },
  "rise": {
   "enable_chalkboard": true,
   "scroll": true,
   "theme": "serif"
  },
  "varInspector": {
   "cols": {
    "lenName": 16,
    "lenType": 16,
    "lenVar": 40
   },
   "kernels_config": {
    "python": {
     "delete_cmd_postfix": "",
     "delete_cmd_prefix": "del ",
     "library": "var_list.py",
     "varRefreshCmd": "print(var_dic_list())"
    },
    "r": {
     "delete_cmd_postfix": ") ",
     "delete_cmd_prefix": "rm(",
     "library": "var_list.r",
     "varRefreshCmd": "cat(var_dic_list()) "
    }
   },
   "types_to_exclude": [
    "module",
    "function",
    "builtin_function_or_method",
    "instance",
    "_Feature"
   ],
   "window_display": false
  },
  "vscode": {
   "interpreter": {
    "hash": "4bb144b7fe00899a551865a1f55f9c1c439b1e9636aa86cfd978e426c39214a9"
   }
  }
 },
 "nbformat": 4,
 "nbformat_minor": 2
}
