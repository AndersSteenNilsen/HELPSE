{
 "cells": [
  {
   "cell_type": "markdown",
   "metadata": {
    "slideshow": {
     "slide_type": "slide"
    }
   },
   "source": [
    "![Screenshot 2023-02-22 164309.png](Screenshot_2023-02-22_164309.png)"
   ]
  },
  {
   "cell_type": "markdown",
   "metadata": {
    "slideshow": {
     "slide_type": "notes"
    }
   },
   "source": [
    "I 1978 lurte 3 smarte menn fra MIT på hvordan en fiktiv bank kunne bruke en server (time-shared service) til å kalkulere sensitive data fra sine låntakere uten å gi fra seg noe informasjon. Et av forslagene var å bruke homomorfisk kryptering.\n",
    "\n",
    "Dette var kun teoretisk i 30 år før Gentry laget det først FHE rammeverket i 2009. I 2011 kom Microsoft ut med et paper “Can Homomorphic Encryption be Practical?”. I 2018 kom Microsoft ut med en implementasjon kalt Simple Encrypted Arithmetic Library (SEAL). Og i 2022 kom Edge med Password Monitor som bruker FHE til å sjekke om passordet ditt finnes i lekkede passord-databaser. (Chrome kom kort tid etterpå med en hash-basert løsning).\n"
   ]
  },
  {
   "attachments": {},
   "cell_type": "markdown",
   "metadata": {},
   "source": [
    "## RSA\n",
    "1. Bob selects two large prime $p<<0$ and $q<<0$ and calclate $n=p \\times q$\n",
    "2. Bob calculate $\\phi(n) = (p-1)(p+2)$. Choose $e$ such that $\\gcd(e, \\phi(n))=1$.\n",
    "3. Bob calculate private key $d$ to be the modular inverse of $e$, in other words $de \\equiv 1 (\\mod \\phi(n))$.\n",
    "4. Bob sends the public key $p_k = n,p$\n",
    "5. Anna encrypts message $m$ to ciphertext $c \\equiv m^e (\\mod n)$. And sends it.\n",
    "6. Bob computes the message $c^d \\equiv m (\\mod n)$"
   ]
  },
  {
   "cell_type": "code",
   "execution_count": 12,
   "metadata": {},
   "outputs": [
    {
     "name": "stdout",
     "output_type": "stream",
     "text": [
      "n=187\n",
      "1\n",
      "cipher=36\n",
      "message_recieved=42, message_recieved==message_sent=True\n"
     ]
    }
   ],
   "source": [
    "from math import gcd\n",
    "# Bobs computer\n",
    "p, q, e = 11, 17, 3 # pretend that p and 1 are large (4096 bits)\n",
    "n = p * q #187\n",
    "print(f'{n=}')\n",
    "phi_n = (p-1)*(q-1)\n",
    "print(f'{gcd(e, phi_n)}')\n",
    "d = pow(e, -1, mod = phi_n)\n",
    "\n",
    "# Annas computer\n",
    "message_sent = 42\n",
    "cipher = message_sent**e % n\n",
    "print(f'{cipher=}')\n",
    "\n",
    "# Bobs computer\n",
    "message_recieved = cipher**d % n\n",
    "print(f'{message_recieved=}, {message_recieved==message_sent=}')\n"
   ]
  },
  {
   "attachments": {},
   "cell_type": "markdown",
   "metadata": {},
   "source": [
    "\n",
    "# Homomorphism in RSA"
   ]
  },
  {
   "cell_type": "code",
   "execution_count": 17,
   "metadata": {},
   "outputs": [
    {
     "name": "stdout",
     "output_type": "stream",
     "text": [
      "n=187\n",
      "gcd(e, phi_n)=1\n",
      "cipher_j=65, 36\n",
      "message_recieved=46, message_recieved==message_sent=False\n"
     ]
    }
   ],
   "source": [
    "from math import gcd\n",
    "# Bobs computer\n",
    "p, q, e = 11, 17, 3\n",
    "#p, q = 101, 103\n",
    "#e = 7\n",
    "n = p * q #187\n",
    "print(f'{n=}')\n",
    "phi_n = (p-1)*(q-1)\n",
    "print(f'{gcd(e, phi_n)=}')\n",
    "d = pow(e, -1, mod = phi_n)\n",
    "\n",
    "# Annas computer\n",
    "message_sent_j = 10\n",
    "message_sent_k = 42\n",
    "cipher_j = message_sent_j**e % n\n",
    "cipher_k = message_sent_k**e % n\n",
    "print(f'{cipher_j=}, {cipher_k}')\n",
    "\n",
    "#Homomorphic calculation\n",
    "cipher_product = cipher_k * cipher_j\n",
    "\n",
    "# Bobs computer\n",
    "message_recieved = cipher_product**d % n\n",
    "print(f'{message_recieved=}, {message_recieved==message_sent=}')"
   ]
  },
  {
   "attachments": {},
   "cell_type": "markdown",
   "metadata": {},
   "source": [
    "# Takebacks\n",
    "Ikke evig multiplikasjoner, `ciper_product`$ \\equiv  m_j \\times m_j \\bmod {n}$"
   ]
  },
  {
   "attachments": {},
   "cell_type": "markdown",
   "metadata": {},
   "source": [
    "# Paillier\n",
    "Generate keys\n",
    "$$\n",
    "\\text{primes} \\; p,q, \\; \\text{random integers} \\;g \\\\\n",
    "\\begin{align}\n",
    "\\Z_n &= {0,1,2, \\ldots, n-1} \\\\\n",
    "p,q &\\in \\N_{p(rime)} | \\gcd ( pq, (p−1)(q−1))=1 \\\\\n",
    "n &=pq\\\\\n",
    "\\lambda &= \\text{lcm} (p-1,q-1) \\\\\n",
    "g   &\\in_R \\Z_{n^2}^* \\\\\n",
    "L(x)& = {{x-1}\\over n} \\\\\n",
    "\\mu &=(L(g^{\\lambda }{\\bmod \\; n}^{2}))^{{-1}}{\\bmod \\; n}\n",
    "b \\\\\n",
    "\\text{public key} =  k_{pub} &= (n, g)  \\\\\n",
    "\\text{private key} = k_{priv} &= (\\lambda, \\mu)  \\\\\n",
    "\\end{align}\n",
    "$$\n",
    "\n",
    "Do some encryption magic.\n",
    "$$\n",
    "\\begin{align}\n",
    "\\text{Encrypt one message}\\nonumber \\\\\n",
    "\\text{message} &= m \\in\\Z_n \\\\\n",
    "\\text{random seed} &= r \\in_R \\N | \\gcd(r,n)=1 \\\\\n",
    "\\text{ciphertext} &=c =\\mathcal{E}(m) = g^m r^n &\\bmod\\; n^2 \\\\\n",
    "\\nonumber \\\\\n",
    "\\text{Encrypt two messages} \\nonumber \\\\\n",
    "\\mathcal{E}(m_1) &= g^{m_1} r_1^n&\\bmod \\;n^2 \\\\\n",
    "\\mathcal{E}(m_2) &= g^{m_2} r_2^n&\\bmod \\;n^2 \\\\\n",
    "\\nonumber \\\\\n",
    "\\text{Homomorphic mulitplication of two ciphertexts} \\nonumber \\\\\n",
    "\\mathcal{E}(m_1) \\times \\mathcal{E}(m_2) &= (g^{m_1} r_1^n)(g^{m_2} r_2^n)&\\bmod \\;n^2 \\\\\n",
    "&= g^{m_1 + m_2} (r_1r_2)^n &\\bmod\\; n^2 \\\\\n",
    "&= \\mathcal{E}(m_1 + m_2)\\\\\n",
    "\\nonumber \\\\\n",
    "\\text{Homomorphic mulitplication of one ciphertext and non-encrypted constant}= k \\nonumber \\\\\n",
    "\\mathcal{E}(m) \\times g^k = g^m r^n \\times g^k\\\\\n",
    "                         &= g^{m+k} r^n\\\\\n",
    "\\nonumber \\\\\n",
    "\\text{Decrypt} \\nonumber \\\\\n",
    "m &=L(c^{\\lambda} \\bmod \\; n`2) \\times \\mu \\bmod \\; n\n",
    "\\end{align}\n",
    "$$"
   ]
  },
  {
   "cell_type": "code",
   "execution_count": 21,
   "metadata": {},
   "outputs": [
    {
     "name": "stdout",
     "output_type": "stream",
     "text": [
      "decrypted=[33, 66, 99, 330]\n"
     ]
    }
   ],
   "source": [
    "from phe import paillier\n",
    "public_key, private_key = paillier.generate_paillier_keypair()\n",
    "messages = [33, 66]\n",
    "cipher_texts = [public_key.encrypt(x) for x in messages]\n",
    "cipher_texts.append(cipher_texts[0]+cipher_texts[1])\n",
    "cipher_texts.append(cipher_texts[0]*10)\n",
    "decrypted = [private_key.decrypt(x) for x in cipher_texts]\n",
    "print(f'{decrypted=}')"
   ]
  },
  {
   "attachments": {},
   "cell_type": "markdown",
   "metadata": {},
   "source": [
    "Notater:\n"
   ]
  },
  {
   "attachments": {},
   "cell_type": "markdown",
   "metadata": {},
   "source": [
    "# Hva kan dette brukes til?\n",
    "* Anonym avstemning\n",
    "* Anonym treningsdata til K.I.\n",
    "* Kan kanskje *ikke* brukes der du *ikke* vil ha *mallebility*.\n",
    "    * Noen ganget din krypterte IOU liste med 2.\n",
    "* ?? Kanskje ikke så mye mer...?\n",
    "* Men hva om vi fikk til både $\\times$ OG $+$ ???"
   ]
  },
  {
   "attachments": {},
   "cell_type": "markdown",
   "metadata": {},
   "source": [
    "# $\\{ \\times, + \\} \\rightarrow \\{\\wedge, \\vee, \\oplus, \\; \\neg \\} \\Leftrightarrow \\{\\&,|,!,||\\} $\n",
    "\n",
    "$$\n",
    "\\begin{align}\n",
    "a,b &\\in\\{0,1\\}\\\\\n",
    "a\\oplus b & \\Leftrightarrow a+b &\\bmod 2 \\\\\n",
    "a\\wedge b & \\Leftrightarrow a\\times b \\\\\n",
    "a \\vee b & \\Leftrightarrow a + b + (a \\times b) &\\bmod 2\n",
    "\\end{align}\n",
    "$$\n",
    "\n",
    "|||$ a\\oplus b$|$a \\wedge b$|$a \\vee b $|\n",
    "|--|--|--|--|--|\n",
    "|$a$|$b$|$a+b\\bmod 2$|$a\\times b$| $a + b + (a \\times b) \\bmod 2$|\n",
    "| 0 | 0 |$0+0=0$     |$0 \\times 0 = 0$|$0+0+(0 \\times0) = 0$|\n",
    "| 0 | 1 |$0+1=1$     |$0 \\times 1 = 0$|$0+1+(0\\times 1) =1$|\n",
    "| 1 | 0 |$1+0=1$     |$1 \\times 0 = 0$|$1+0+(1\\times 0) =1$|\n",
    "| 1 | 1 |$1+1= 2 \\equiv0\\bmod2$|$1 \\times 1 = 1$|$1+1+(1\\times 1)=3\\equiv1 \\bmod 2$|"
   ]
  },
  {
   "attachments": {},
   "cell_type": "markdown",
   "metadata": {},
   "source": [
    "# FHE **F**ully **H**omomorphic **E**ncryption\n",
    "* Si noe om Noice budget\n",
    "* Når du har nådd syøt-budsjettet ditt, kan du ta imot tallet ditt, decryptere det, og sende det inn igjen krypter.\n",
    "* Bootstrapping: Å dekryptere kryptert data kryptert.\n",
    "* Noe om first generation, second og third..\n",
    "* 4th generation FHE:  Cheon, Kim, Kim and Song (CKKS)\n",
    "    * Homomorphic Encryption for Arithmetic of Approximate Numbers 2016, ASIACRYPT 2017\n",
    "    * Floats.\n",
    "    * In short, our encoding function is given by:\n",
    "    * ![Screenshot](CKKS_enc.png)\n",
    "    * > ...we show that our scheme can be applied to the efficient evaluation of transcendental functions such as multiplicative inverse, exponential function, logistic function and discrete Fourier transform.\n",
    "    * > The primary open problem is finding way to convert our scheme to a fully homomorphic scheme using bootstrapping.\n",
    "\n",
    "    "
   ]
  },
  {
   "attachments": {},
   "cell_type": "markdown",
   "metadata": {},
   "source": [
    "# LPSE **L**ightweight **p**assword-**s**trength estimation for password meters\n",
    "\n",
    "Bruker Cosine Similarity for å se på forskjellen mellom 2 vektorer. Der vektor 1 er et simulert sterkt passord og vektor 2 er passordet som skal måles\n",
    "\n",
    "$$\n",
    "\\begin{align}\n",
    "\\text{Vectors}\\;A,B\n",
    "\\text{cosine similarity} = S_C(A,B) :&= cos(\\phi)\\\\\n",
    " &= {{A \\cdot B}\\over {||A|| \\times ||B||}} \\\\\n",
    " &={ {\\sum_{n=1}^n A_i \\cdot B_i}\\over{\\sqrt { \\sum_{n=1}^n A_i^2} \\cdot \\sqrt{ \\sum_{n=1}^n A_i^2}}}\n",
    "\\end{align}\n",
    "$$\n"
   ]
  },
  {
   "attachments": {},
   "cell_type": "markdown",
   "metadata": {},
   "source": [
    "Notater:\n",
    "ref: https://eprint.iacr.org/2016/421.pdf\n"
   ]
  }
 ],
 "metadata": {
  "celltoolbar": "Slideshow",
  "kernelspec": {
   "display_name": "Python 3 (ipykernel)",
   "language": "python",
   "name": "python3"
  },
  "language_info": {
   "codemirror_mode": {
    "name": "ipython",
    "version": 3
   },
   "file_extension": ".py",
   "mimetype": "text/x-python",
   "name": "python",
   "nbconvert_exporter": "python",
   "pygments_lexer": "ipython3",
   "version": "3.10.9"
  },
  "vscode": {
   "interpreter": {
    "hash": "4bb144b7fe00899a551865a1f55f9c1c439b1e9636aa86cfd978e426c39214a9"
   }
  }
 },
 "nbformat": 4,
 "nbformat_minor": 2
}
