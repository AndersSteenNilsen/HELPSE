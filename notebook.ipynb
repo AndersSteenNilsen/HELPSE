{
 "cells": [
  {
   "cell_type": "markdown",
   "metadata": {
    "slideshow": {
     "slide_type": "slide"
    }
   },
   "source": [
    "![Screenshot 2023-02-22 164309.png](Screenshot_2023-02-22_164309.png)"
   ]
  },
  {
   "cell_type": "markdown",
   "metadata": {
    "slideshow": {
     "slide_type": "notes"
    }
   },
   "source": [
    "I 1978 lurte 3 smarte menn fra MIT på hvordan en fiktiv bank kunne bruke en server (time-shared service) til å kalkulere sensitive data fra sine låntakere uten å gi fra seg noe informasjon. Et av forslagene var å bruke homomorfisk kryptering.\n",
    "\n",
    "Dette var kun teoretisk i 30 år før Gentry laget det først FHE rammeverket i 2009. I 2011 kom Microsoft ut med et paper “Can Homomorphic Encryption be Practical?”. I 2018 kom Microsoft ut med en implementasjon kalt Simple Encrypted Arithmetic Library (SEAL). Og i 2022 kom Edge med Password Monitor som bruker FHE til å sjekke om passordet ditt finnes i lekkede passord-databaser. (Chrome kom kort tid etterpå med en hash-basert løsning).\n"
   ]
  },
  {
   "cell_type": "markdown",
   "metadata": {},
   "source": [
    "## RSA\n",
    "1. Bob selects two large prime $p<<0$ and $q<<0$ and calclate $n=p \\cdot q$\n",
    "2. Bob calculate $\\phi(n) = (p-1)(p+2)$. Choose $e$ such that $\\gcd(e, \\phi(n))=1$ (Or just a prime number works also fine).\n",
    "3. Bob calculate private key $d$ to be the modular inverse of $e$, in other words $de \\equiv 1 (\\mod \\phi(n))$.\n",
    "4. Bob sends the public key $p_k = n,p$\n",
    "5. Anna encrypts message $m$ to ciphertext $c \\equiv m^e (\\mod n)$. And sends it.\n",
    "6. Bob computes the message $c^d \\equiv m (\\mod n)$"
   ]
  },
  {
   "cell_type": "code",
   "execution_count": 7,
   "metadata": {},
   "outputs": [
    {
     "name": "stdout",
     "output_type": "stream",
     "text": [
      "n=187\n",
      "c=36\n",
      "m_b=42\n"
     ]
    }
   ],
   "source": [
    "# Bobs computer\n",
    "p, q, e = 11, 17, 3 # pretend that p and 1 are large (4096 bits)\n",
    "n = p * q\n",
    "print(f'{n=}')\n",
    "phi_n = (p-1)*(q-1)\n",
    "d = pow(e, -1, mod = phi_n)\n",
    "\n",
    "# Annas computer\n",
    "m_a = 42\n",
    "c = m_a**e % n\n",
    "print(f'{c=}')\n",
    "\n",
    "# Bobs computer\n",
    "m_b = c**d % n\n",
    "print(f'{m_b=}')\n"
   ]
  }
 ],
 "metadata": {
  "celltoolbar": "Slideshow",
  "kernelspec": {
   "display_name": "Python 3 (ipykernel)",
   "language": "python",
   "name": "python3"
  },
  "language_info": {
   "codemirror_mode": {
    "name": "ipython",
    "version": 3
   },
   "file_extension": ".py",
   "mimetype": "text/x-python",
   "name": "python",
   "nbconvert_exporter": "python",
   "pygments_lexer": "ipython3",
   "version": "3.10.9"
  },
  "vscode": {
   "interpreter": {
    "hash": "4bb144b7fe00899a551865a1f55f9c1c439b1e9636aa86cfd978e426c39214a9"
   }
  }
 },
 "nbformat": 4,
 "nbformat_minor": 2
}
