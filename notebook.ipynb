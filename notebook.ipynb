{
 "cells": [
  {
   "attachments": {},
   "cell_type": "markdown",
   "metadata": {},
   "source": [
    "## RSA\n",
    "1. Bob selects two large prime $p<<0$ and $q<<0$ and calclate $n=p \\cdot q$\n",
    "2. Bob calculate $\\phi(n) = (p-1)(p+2)$. Choose $e$ such that $\\gcd(e, \\phi(n))=1$ (Or just a prime number works also fine).\n",
    "3. Bob calculate private key $d$ to be the modular inverse of $e$, in other words $de \\equiv 1 (\\mod \\phi(n))$.\n",
    "4. Bob sends the public key $p_k = n,p$\n",
    "5. Anna encrypts message $m$ to ciphertext $c \\equiv m^e (\\mod n)$. And sends it.\n",
    "6. Bob computes the message $c^d \\equiv m (\\mod n)$"
   ]
  },
  {
   "cell_type": "code",
   "execution_count": 6,
   "metadata": {},
   "outputs": [
    {
     "name": "stdout",
     "output_type": "stream",
     "text": [
      "n=187\n",
      "c=36\n",
      "m_b=42\n"
     ]
    }
   ],
   "source": [
    "# Bobs computer\n",
    "p, q, e = 11, 17, 3 # pretend that p and 1 are large (4096 bits)\n",
    "n = p * q\n",
    "print(f'{n=}')\n",
    "phi_n = (p-1)*(q-1)\n",
    "d = pow(e, -1, mod = phi_n)\n",
    "\n",
    "# Annas computer\n",
    "m_a = 42\n",
    "c = m_a**e % n\n",
    "print(f'{c=}')\n",
    "\n",
    "# Bobs computer\n",
    "m_b = c**d % n\n",
    "print(f'{m_b=}')\n"
   ]
  }
 ],
 "metadata": {
  "kernelspec": {
   "display_name": "fhe",
   "language": "python",
   "name": "python3"
  },
  "language_info": {
   "codemirror_mode": {
    "name": "ipython",
    "version": 3
   },
   "file_extension": ".py",
   "mimetype": "text/x-python",
   "name": "python",
   "nbconvert_exporter": "python",
   "pygments_lexer": "ipython3",
   "version": "3.10.9"
  },
  "orig_nbformat": 4,
  "vscode": {
   "interpreter": {
    "hash": "cf3d44ed954f9a9e38cbc62310df27db28ed2cbe006e3fe7ca8553205c7e920a"
   }
  }
 },
 "nbformat": 4,
 "nbformat_minor": 2
}
